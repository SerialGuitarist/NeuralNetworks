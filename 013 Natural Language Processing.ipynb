{
 "cells": [
  {
   "cell_type": "markdown",
   "id": "66836be9",
   "metadata": {},
   "source": [
    "# Tasks\n",
    "A good NLP system typically performs many of these tasks inside\n",
    "* Analysis Tasks\n",
    "    * Syntactic\n",
    "        * Tokenization\n",
    "            * Dividing a body of text into the (indivisible) atomic units, such as words\n",
    "            * Especially important in languages such as Japanese where the words are not divided by spaces or punctuation marks such as apostrophes\n",
    "    * Semantic\n",
    "        * Sentence/Synopsis classification\n",
    "            * Spam detection\n",
    "            * News article classification into political, technology, etc etc\n",
    "            * Product review rating sentiment classification\n",
    "        * Named Entity Recognition (NER)\n",
    "            * Attempt to extracting names of entities (such as persons, locations, organizations, etc etc)\n",
    "    * Pragmatic\n",
    "        * Word Sense Disambiguation (WSD)\n",
    "            * The sentences \"the dog barked at the cows\" and \"the dog bit the tree bark\" has completely different meanings of the word bark\n",
    "        * Part-of-Speech (PoS) tagging\n",
    "            * Figuring out what purpose does the word serve in a given sentence, such as proper noun, common noun, phrasel verb, etc etc\n",
    "* Generation Tasks\n",
    "    * Language generation\n",
    "        * Predicting new text to follow after being classified in a large text body, such as a scifi story\n",
    "    * Question answering (QA)\n",
    "        * Chatbots on social media sites\n",
    "    * Machine translation (MT)\n",
    "        * Different languages have highly different morphological structures, and the the **word alignment problem**, where the word-to-word relationships can be one to many, one to one, many to one, or many to many makes this a very difficult task"
   ]
  },
  {
   "cell_type": "markdown",
   "id": "66956569",
   "metadata": {},
   "source": [
    "# Deep Learning Approach To Natural Processing\n",
    "* Learns much richer features from raw data instead of using limited human-engineered features\n",
    "    * Made the tedious and expensive task of feature engineering to be obsolete\n",
    "* Does the feature learning and task learning simultaneously\n",
    "* The large number of parameters, the weights and biases, allow for understanding significantly more features than a human might have engineered\n",
    "* Considered black boxes due to the poor interpretability\n",
    "    * \"how\" and \"what\" features learnt by deep models are still open problems in the field"
   ]
  }
 ],
 "metadata": {
  "kernelspec": {
   "display_name": "Python 3",
   "language": "python",
   "name": "python3"
  },
  "language_info": {
   "codemirror_mode": {
    "name": "ipython",
    "version": 3
   },
   "file_extension": ".py",
   "mimetype": "text/x-python",
   "name": "python",
   "nbconvert_exporter": "python",
   "pygments_lexer": "ipython3",
   "version": "3.8.8"
  }
 },
 "nbformat": 4,
 "nbformat_minor": 5
}
