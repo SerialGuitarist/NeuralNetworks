{
 "cells": [
  {
   "cell_type": "code",
   "execution_count": 2,
   "id": "db9df5ee",
   "metadata": {},
   "outputs": [],
   "source": [
    "import tensorflow as tf\n",
    "import numpy as np"
   ]
  },
  {
   "cell_type": "markdown",
   "id": "5b44bfaf",
   "metadata": {},
   "source": [
    "# How it works\n",
    "Has two main components:\n",
    "* Graphs\n",
    "    * A graph of partial computations\n",
    "    * A defined computation, that's not actually evaluated\n",
    "    * An equation to be used later\n",
    "    * Called a graph because different computations can be related to each other\n",
    "        * eg: need to find the value of vector 1, whose value is the sum of vector 2 and 3, so these other calculations need to be done beforehand\n",
    "* Sessions\n",
    "    * A way to execute either a part of or the entire graph\n",
    "    * Starts from the lowest level, with no non-constant dependancies"
   ]
  },
  {
   "cell_type": "markdown",
   "id": "42520f8d",
   "metadata": {},
   "source": [
    "# Tensors\n",
    "A generalization of vectors and matrices to potentially higher dimensions\n",
    "\n",
    "Each tensor has a data type (`float32`, `int32`, and others) and a shape"
   ]
  },
  {
   "cell_type": "code",
   "execution_count": 5,
   "id": "8207fee0",
   "metadata": {},
   "outputs": [
    {
     "data": {
      "text/plain": [
       "b'a string'"
      ]
     },
     "execution_count": 5,
     "metadata": {},
     "output_type": "execute_result"
    }
   ],
   "source": [
    "# creating tensors\n",
    "string = tf.Variable(\"a string\", tf.string)\n",
    "string.numpy()"
   ]
  },
  {
   "cell_type": "code",
   "execution_count": null,
   "id": "0f9d56e7",
   "metadata": {},
   "outputs": [],
   "source": []
  }
 ],
 "metadata": {
  "kernelspec": {
   "display_name": "Python 3",
   "language": "python",
   "name": "python3"
  },
  "language_info": {
   "codemirror_mode": {
    "name": "ipython",
    "version": 3
   },
   "file_extension": ".py",
   "mimetype": "text/x-python",
   "name": "python",
   "nbconvert_exporter": "python",
   "pygments_lexer": "ipython3",
   "version": "3.8.8"
  }
 },
 "nbformat": 4,
 "nbformat_minor": 5
}
