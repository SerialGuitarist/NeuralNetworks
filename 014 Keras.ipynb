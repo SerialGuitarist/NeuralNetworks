{
 "cells": [
  {
   "cell_type": "markdown",
   "id": "e40ad74e",
   "metadata": {},
   "source": [
    "# MNIST\n",
    "## Loading"
   ]
  },
  {
   "cell_type": "code",
   "execution_count": 13,
   "id": "07b05529",
   "metadata": {},
   "outputs": [],
   "source": [
    "import tensorflow as tf"
   ]
  },
  {
   "cell_type": "code",
   "execution_count": 14,
   "id": "d7ed5a65",
   "metadata": {},
   "outputs": [],
   "source": [
    "mnist = tf.keras.datasets.mnist\n",
    "\n",
    "(x_train, y_train), (x_test, y_test) = mnist.load_data()"
   ]
  },
  {
   "cell_type": "code",
   "execution_count": 15,
   "id": "ffeff83a",
   "metadata": {},
   "outputs": [],
   "source": [
    "x_train, x_test = x_train / 255.0, x_test / 255.0"
   ]
  },
  {
   "cell_type": "markdown",
   "id": "b7cd4bc1",
   "metadata": {},
   "source": [
    "## Model\n",
    "Building the Sequential model by stacking layers"
   ]
  },
  {
   "cell_type": "code",
   "execution_count": 16,
   "id": "b12ab966",
   "metadata": {},
   "outputs": [],
   "source": [
    "model = tf.keras.models.Sequential([\n",
    "    tf.keras.layers.Flatten(input_shape = (28, 28)),\n",
    "    tf.keras.layers.Dense(128, activation = 'relu'),\n",
    "    tf.keras.layers.Dropout(0.2),\n",
    "    tf.keras.layers.Dense(10)\n",
    "])"
   ]
  },
  {
   "cell_type": "markdown",
   "id": "8ab5452a",
   "metadata": {},
   "source": [
    "## Prediction"
   ]
  },
  {
   "cell_type": "code",
   "execution_count": 17,
   "id": "3b7d8a45",
   "metadata": {},
   "outputs": [
    {
     "data": {
      "text/plain": [
       "array([[-0.6533852 ,  0.14482024, -0.14389896, -0.75136817, -0.99446326,\n",
       "         0.10279155,  0.2075993 , -0.9738234 ,  0.28784522, -0.28650537]],\n",
       "      dtype=float32)"
      ]
     },
     "execution_count": 17,
     "metadata": {},
     "output_type": "execute_result"
    }
   ],
   "source": [
    "predictions = model(x_train[:1]).numpy()\n",
    "predictions"
   ]
  },
  {
   "cell_type": "markdown",
   "id": "930c1ba1",
   "metadata": {},
   "source": [
    "The tf.nn.softmax function converts these logits to probabilities for each class\n",
    "\n",
    "Can do be done as the activation function of the final dense layer, but a bad idea as it makes it impossible to provide and exact and numerically stable loss calculation for all models when using a softmax output"
   ]
  },
  {
   "cell_type": "code",
   "execution_count": 18,
   "id": "941e63f6",
   "metadata": {},
   "outputs": [
    {
     "data": {
      "text/plain": [
       "array([[0.06356695, 0.14121719, 0.10580309, 0.05763388, 0.04519631,\n",
       "        0.135405  , 0.15036687, 0.04613885, 0.16293055, 0.09174137]],\n",
       "      dtype=float32)"
      ]
     },
     "execution_count": 18,
     "metadata": {},
     "output_type": "execute_result"
    }
   ],
   "source": [
    "tf.nn.softmax(predictions).numpy()"
   ]
  },
  {
   "cell_type": "markdown",
   "id": "7521cea3",
   "metadata": {},
   "source": [
    "The losses.SpareCategoricalCrossentropy loss takes a vector of logits and a True index and returns a scalar loss for each example\n",
    "\n",
    "The loss is the negaative log probability of the true class"
   ]
  },
  {
   "cell_type": "code",
   "execution_count": 19,
   "id": "60fd9dd4",
   "metadata": {},
   "outputs": [],
   "source": [
    "loss_fn = tf.keras.losses.SparseCategoricalCrossentropy(from_logits = True)"
   ]
  },
  {
   "cell_type": "code",
   "execution_count": 20,
   "id": "820d6d8a",
   "metadata": {},
   "outputs": [
    {
     "data": {
      "text/plain": [
       "1.999485"
      ]
     },
     "execution_count": 20,
     "metadata": {},
     "output_type": "execute_result"
    }
   ],
   "source": [
    "loss_fn(y_train[:1], predictions).numpy()"
   ]
  },
  {
   "cell_type": "markdown",
   "id": "a9456829",
   "metadata": {},
   "source": [
    "The untrained model has a loss of about 2\n",
    "\n",
    "## Training\n",
    "The Model.fit method adjusts the model parameters to minimize the loss"
   ]
  },
  {
   "cell_type": "code",
   "execution_count": 21,
   "id": "9f65291b",
   "metadata": {},
   "outputs": [],
   "source": [
    "model.compile(optimizer = 'adam',\n",
    "              loss = loss_fn,\n",
    "              metrics = ['accuracy'])"
   ]
  },
  {
   "cell_type": "code",
   "execution_count": 22,
   "id": "08e87591",
   "metadata": {},
   "outputs": [
    {
     "name": "stdout",
     "output_type": "stream",
     "text": [
      "Epoch 1/5\n",
      "1875/1875 [==============================] - 5s 2ms/step - loss: 0.2948 - accuracy: 0.9133\n",
      "Epoch 2/5\n",
      "1875/1875 [==============================] - 5s 2ms/step - loss: 0.1444 - accuracy: 0.9572\n",
      "Epoch 3/5\n",
      "1875/1875 [==============================] - 7s 3ms/step - loss: 0.1078 - accuracy: 0.9677\n",
      "Epoch 4/5\n",
      "1875/1875 [==============================] - 8s 4ms/step - loss: 0.0892 - accuracy: 0.9727\n",
      "Epoch 5/5\n",
      "1875/1875 [==============================] - 8s 4ms/step - loss: 0.0747 - accuracy: 0.9766\n"
     ]
    },
    {
     "data": {
      "text/plain": [
       "<tensorflow.python.keras.callbacks.History at 0x7f47d8503400>"
      ]
     },
     "execution_count": 22,
     "metadata": {},
     "output_type": "execute_result"
    }
   ],
   "source": [
    "model.fit(x_train, y_train, epochs = 5)"
   ]
  },
  {
   "cell_type": "markdown",
   "id": "6c36af2f",
   "metadata": {},
   "source": [
    "Model.evalaute method checks the model's performance on a Validation or a Testing set"
   ]
  },
  {
   "cell_type": "code",
   "execution_count": 31,
   "id": "afdaf1e2",
   "metadata": {},
   "outputs": [
    {
     "name": "stdout",
     "output_type": "stream",
     "text": [
      "313/313 [==============================] - 1s 2ms/step - loss: 0.0719 - accuracy: 0.9780\n"
     ]
    },
    {
     "data": {
      "text/plain": [
       "[0.071898452937603, 0.9779999852180481]"
      ]
     },
     "execution_count": 31,
     "metadata": {},
     "output_type": "execute_result"
    }
   ],
   "source": [
    "model.evaluate(x_test, y_test, verbose = 1)"
   ]
  },
  {
   "cell_type": "markdown",
   "id": "1db4bea3",
   "metadata": {},
   "source": [
    "The trained model can now be wrapped around with a softmax layer to return probability"
   ]
  },
  {
   "cell_type": "code",
   "execution_count": 32,
   "id": "9ae2fc2d",
   "metadata": {},
   "outputs": [],
   "source": [
    "probability_model = tf.keras.Sequential([\n",
    "    model,\n",
    "    tf.keras.layers.Softmax()\n",
    "])"
   ]
  },
  {
   "cell_type": "code",
   "execution_count": 34,
   "id": "20167abd",
   "metadata": {},
   "outputs": [
    {
     "data": {
      "text/plain": [
       "<tf.Tensor: shape=(5, 10), dtype=float32, numpy=\n",
       "array([[2.0542620e-08, 5.4019511e-10, 1.0290047e-05, 2.9362456e-04,\n",
       "        4.7601001e-10, 1.8215069e-08, 9.1634382e-14, 9.9969447e-01,\n",
       "        7.7553767e-07, 8.1635085e-07],\n",
       "       [2.5183641e-10, 1.3750466e-05, 9.9995816e-01, 2.6195927e-05,\n",
       "        1.4603344e-16, 1.0380346e-07, 3.0328845e-08, 4.5965163e-12,\n",
       "        1.8301110e-06, 5.5935063e-13],\n",
       "       [2.7905895e-07, 9.9704212e-01, 9.1661408e-05, 2.1939173e-05,\n",
       "        8.1209982e-05, 1.3593687e-05, 1.8769220e-05, 1.2987241e-03,\n",
       "        1.4261382e-03, 5.6514027e-06],\n",
       "       [9.9994588e-01, 5.1397031e-10, 2.1899818e-05, 2.8642269e-08,\n",
       "        9.8739918e-07, 3.9010815e-06, 3.9328856e-06, 1.1342747e-05,\n",
       "        2.2127290e-08, 1.1973714e-05],\n",
       "       [6.1782788e-07, 5.6527727e-10, 8.7821428e-07, 4.1815071e-08,\n",
       "        9.9884123e-01, 8.5142958e-08, 4.7145818e-06, 7.3820731e-05,\n",
       "        1.5198476e-07, 1.0785246e-03]], dtype=float32)>"
      ]
     },
     "execution_count": 34,
     "metadata": {},
     "output_type": "execute_result"
    }
   ],
   "source": [
    "probability_model(x_test[:5])"
   ]
  },
  {
   "cell_type": "code",
   "execution_count": null,
   "id": "d0cb94e9",
   "metadata": {},
   "outputs": [],
   "source": []
  }
 ],
 "metadata": {
  "kernelspec": {
   "display_name": "Python 3",
   "language": "python",
   "name": "python3"
  },
  "language_info": {
   "codemirror_mode": {
    "name": "ipython",
    "version": 3
   },
   "file_extension": ".py",
   "mimetype": "text/x-python",
   "name": "python",
   "nbconvert_exporter": "python",
   "pygments_lexer": "ipython3",
   "version": "3.8.8"
  }
 },
 "nbformat": 4,
 "nbformat_minor": 5
}
