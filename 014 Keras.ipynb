{
 "cells": [
  {
   "cell_type": "markdown",
   "id": "e40ad74e",
   "metadata": {},
   "source": [
    "# MNIST\n",
    "## Loading"
   ]
  },
  {
   "cell_type": "code",
   "execution_count": 1,
   "id": "07b05529",
   "metadata": {},
   "outputs": [],
   "source": [
    "import tensorflow as tf"
   ]
  },
  {
   "cell_type": "code",
   "execution_count": 14,
   "id": "d7ed5a65",
   "metadata": {},
   "outputs": [],
   "source": [
    "mnist = tf.keras.datasets.mnist\n",
    "\n",
    "(x_train, y_train), (x_test, y_test) = mnist.load_data()"
   ]
  },
  {
   "cell_type": "code",
   "execution_count": 15,
   "id": "ffeff83a",
   "metadata": {},
   "outputs": [],
   "source": [
    "x_train, x_test = x_train / 255.0, x_test / 255.0"
   ]
  },
  {
   "cell_type": "markdown",
   "id": "b7cd4bc1",
   "metadata": {},
   "source": [
    "## Model\n",
    "Building the Sequential model by stacking layers"
   ]
  },
  {
   "cell_type": "code",
   "execution_count": 16,
   "id": "b12ab966",
   "metadata": {},
   "outputs": [],
   "source": [
    "model = tf.keras.models.Sequential([\n",
    "    tf.keras.layers.Flatten(input_shape = (28, 28)),\n",
    "    tf.keras.layers.Dense(128, activation = 'relu'),\n",
    "    tf.keras.layers.Dropout(0.2),\n",
    "    tf.keras.layers.Dense(10)\n",
    "])"
   ]
  },
  {
   "cell_type": "markdown",
   "id": "8ab5452a",
   "metadata": {},
   "source": [
    "## Prediction"
   ]
  },
  {
   "cell_type": "code",
   "execution_count": 17,
   "id": "3b7d8a45",
   "metadata": {},
   "outputs": [
    {
     "data": {
      "text/plain": [
       "array([[-0.6533852 ,  0.14482024, -0.14389896, -0.75136817, -0.99446326,\n",
       "         0.10279155,  0.2075993 , -0.9738234 ,  0.28784522, -0.28650537]],\n",
       "      dtype=float32)"
      ]
     },
     "execution_count": 17,
     "metadata": {},
     "output_type": "execute_result"
    }
   ],
   "source": [
    "predictions = model(x_train[:1]).numpy()\n",
    "predictions"
   ]
  },
  {
   "cell_type": "markdown",
   "id": "930c1ba1",
   "metadata": {},
   "source": [
    "The tf.nn.softmax function converts these logits to probabilities for each class\n",
    "\n",
    "Can do be done as the activation function of the final dense layer, but a bad idea as it makes it impossible to provide and exact and numerically stable loss calculation for all models when using a softmax output"
   ]
  },
  {
   "cell_type": "code",
   "execution_count": 18,
   "id": "941e63f6",
   "metadata": {},
   "outputs": [
    {
     "data": {
      "text/plain": [
       "array([[0.06356695, 0.14121719, 0.10580309, 0.05763388, 0.04519631,\n",
       "        0.135405  , 0.15036687, 0.04613885, 0.16293055, 0.09174137]],\n",
       "      dtype=float32)"
      ]
     },
     "execution_count": 18,
     "metadata": {},
     "output_type": "execute_result"
    }
   ],
   "source": [
    "tf.nn.softmax(predictions).numpy()"
   ]
  },
  {
   "cell_type": "markdown",
   "id": "7521cea3",
   "metadata": {},
   "source": [
    "The losses.SpareCategoricalCrossentropy loss takes a vector of logits and a True index and returns a scalar loss for each example\n",
    "\n",
    "The loss is the negaative log probability of the true class"
   ]
  },
  {
   "cell_type": "code",
   "execution_count": 19,
   "id": "60fd9dd4",
   "metadata": {},
   "outputs": [],
   "source": [
    "loss_fn = tf.keras.losses.SparseCategoricalCrossentropy(from_logits = True)"
   ]
  },
  {
   "cell_type": "code",
   "execution_count": 20,
   "id": "820d6d8a",
   "metadata": {},
   "outputs": [
    {
     "data": {
      "text/plain": [
       "1.999485"
      ]
     },
     "execution_count": 20,
     "metadata": {},
     "output_type": "execute_result"
    }
   ],
   "source": [
    "loss_fn(y_train[:1], predictions).numpy()"
   ]
  },
  {
   "cell_type": "markdown",
   "id": "a9456829",
   "metadata": {},
   "source": [
    "The untrained model has a loss of about 2\n",
    "\n",
    "## Training\n",
    "The Model.fit method adjusts the model parameters to minimize the loss"
   ]
  },
  {
   "cell_type": "code",
   "execution_count": 21,
   "id": "9f65291b",
   "metadata": {},
   "outputs": [],
   "source": [
    "model.compile(optimizer = 'adam',\n",
    "              loss = loss_fn,\n",
    "              metrics = ['accuracy'])"
   ]
  },
  {
   "cell_type": "code",
   "execution_count": 22,
   "id": "08e87591",
   "metadata": {},
   "outputs": [
    {
     "name": "stdout",
     "output_type": "stream",
     "text": [
      "Epoch 1/5\n",
      "1875/1875 [==============================] - 5s 2ms/step - loss: 0.2948 - accuracy: 0.9133\n",
      "Epoch 2/5\n",
      "1875/1875 [==============================] - 5s 2ms/step - loss: 0.1444 - accuracy: 0.9572\n",
      "Epoch 3/5\n",
      "1875/1875 [==============================] - 7s 3ms/step - loss: 0.1078 - accuracy: 0.9677\n",
      "Epoch 4/5\n",
      "1875/1875 [==============================] - 8s 4ms/step - loss: 0.0892 - accuracy: 0.9727\n",
      "Epoch 5/5\n",
      "1875/1875 [==============================] - 8s 4ms/step - loss: 0.0747 - accuracy: 0.9766\n"
     ]
    },
    {
     "data": {
      "text/plain": [
       "<tensorflow.python.keras.callbacks.History at 0x7f47d8503400>"
      ]
     },
     "execution_count": 22,
     "metadata": {},
     "output_type": "execute_result"
    }
   ],
   "source": [
    "model.fit(x_train, y_train, epochs = 5)"
   ]
  },
  {
   "cell_type": "markdown",
   "id": "6c36af2f",
   "metadata": {},
   "source": [
    "Model.evalaute method checks the model's performance on a Validation or a Testing set"
   ]
  },
  {
   "cell_type": "code",
   "execution_count": 31,
   "id": "afdaf1e2",
   "metadata": {},
   "outputs": [
    {
     "name": "stdout",
     "output_type": "stream",
     "text": [
      "313/313 [==============================] - 1s 2ms/step - loss: 0.0719 - accuracy: 0.9780\n"
     ]
    },
    {
     "data": {
      "text/plain": [
       "[0.071898452937603, 0.9779999852180481]"
      ]
     },
     "execution_count": 31,
     "metadata": {},
     "output_type": "execute_result"
    }
   ],
   "source": [
    "model.evaluate(x_test, y_test, verbose = 1)"
   ]
  },
  {
   "cell_type": "markdown",
   "id": "1db4bea3",
   "metadata": {},
   "source": [
    "The trained model can now be wrapped around with a softmax layer to return probability"
   ]
  },
  {
   "cell_type": "code",
   "execution_count": 32,
   "id": "9ae2fc2d",
   "metadata": {},
   "outputs": [],
   "source": [
    "probability_model = tf.keras.Sequential([\n",
    "    model,\n",
    "    tf.keras.layers.Softmax()\n",
    "])"
   ]
  },
  {
   "cell_type": "code",
   "execution_count": 34,
   "id": "20167abd",
   "metadata": {},
   "outputs": [
    {
     "data": {
      "text/plain": [
       "<tf.Tensor: shape=(5, 10), dtype=float32, numpy=\n",
       "array([[2.0542620e-08, 5.4019511e-10, 1.0290047e-05, 2.9362456e-04,\n",
       "        4.7601001e-10, 1.8215069e-08, 9.1634382e-14, 9.9969447e-01,\n",
       "        7.7553767e-07, 8.1635085e-07],\n",
       "       [2.5183641e-10, 1.3750466e-05, 9.9995816e-01, 2.6195927e-05,\n",
       "        1.4603344e-16, 1.0380346e-07, 3.0328845e-08, 4.5965163e-12,\n",
       "        1.8301110e-06, 5.5935063e-13],\n",
       "       [2.7905895e-07, 9.9704212e-01, 9.1661408e-05, 2.1939173e-05,\n",
       "        8.1209982e-05, 1.3593687e-05, 1.8769220e-05, 1.2987241e-03,\n",
       "        1.4261382e-03, 5.6514027e-06],\n",
       "       [9.9994588e-01, 5.1397031e-10, 2.1899818e-05, 2.8642269e-08,\n",
       "        9.8739918e-07, 3.9010815e-06, 3.9328856e-06, 1.1342747e-05,\n",
       "        2.2127290e-08, 1.1973714e-05],\n",
       "       [6.1782788e-07, 5.6527727e-10, 8.7821428e-07, 4.1815071e-08,\n",
       "        9.9884123e-01, 8.5142958e-08, 4.7145818e-06, 7.3820731e-05,\n",
       "        1.5198476e-07, 1.0785246e-03]], dtype=float32)>"
      ]
     },
     "execution_count": 34,
     "metadata": {},
     "output_type": "execute_result"
    }
   ],
   "source": [
    "probability_model(x_test[:5])"
   ]
  },
  {
   "cell_type": "markdown",
   "id": "60cd3afe",
   "metadata": {},
   "source": [
    "# Fashion MNIST"
   ]
  },
  {
   "cell_type": "code",
   "execution_count": 1,
   "id": "4938bcf1",
   "metadata": {},
   "outputs": [
    {
     "name": "stdout",
     "output_type": "stream",
     "text": [
      "2.5.0\n"
     ]
    }
   ],
   "source": [
    "# tensorflow and tf.keras\n",
    "import tensorflow as tf\n",
    "\n",
    "# helper libraries\n",
    "import numpy as np\n",
    "import matplotlib.pyplot as plt\n",
    "\n",
    "print(tf.__version__)"
   ]
  },
  {
   "cell_type": "code",
   "execution_count": 2,
   "id": "48722358",
   "metadata": {},
   "outputs": [
    {
     "name": "stdout",
     "output_type": "stream",
     "text": [
      "Downloading data from https://storage.googleapis.com/tensorflow/tf-keras-datasets/train-labels-idx1-ubyte.gz\n",
      "32768/29515 [=================================] - 0s 2us/step\n",
      "Downloading data from https://storage.googleapis.com/tensorflow/tf-keras-datasets/train-images-idx3-ubyte.gz\n",
      "26427392/26421880 [==============================] - 3s 0us/step\n",
      "Downloading data from https://storage.googleapis.com/tensorflow/tf-keras-datasets/t10k-labels-idx1-ubyte.gz\n",
      "8192/5148 [===============================================] - 0s 0us/step\n",
      "Downloading data from https://storage.googleapis.com/tensorflow/tf-keras-datasets/t10k-images-idx3-ubyte.gz\n",
      "4423680/4422102 [==============================] - 1s 0us/step\n"
     ]
    }
   ],
   "source": [
    "fashion_mnist = tf.keras.datasets.fashion_mnist\n",
    "\n",
    "(train_images, train_labels), (test_images, test_labels) = fashion_mnist.load_data()"
   ]
  },
  {
   "cell_type": "code",
   "execution_count": 4,
   "id": "c3b76674",
   "metadata": {},
   "outputs": [
    {
     "data": {
      "text/plain": [
       "array([[  0,   0,   0,   0,   0,   0,   0,   0,   0,   0,   0,   0,   0,\n",
       "          0,   0,   0,   0,   0,   0,   0,   0,   0,   0,   0,   0,   0,\n",
       "          0,   0],\n",
       "       [  0,   0,   0,   0,   0,   0,   0,   0,   0,   0,   0,   0,   0,\n",
       "          0,   0,   0,   0,   0,   0,   0,   0,   0,   0,   0,   0,   0,\n",
       "          0,   0],\n",
       "       [  0,   0,   0,   0,   0,   0,   0,   0,   0,   0,   0,   0,   0,\n",
       "          0,   0,   0,   0,   0,   0,   0,   0,   0,   0,   0,   0,   0,\n",
       "          0,   0],\n",
       "       [  0,   0,   0,   0,   0,   0,   0,   0,   0,   0,   0,   0,   1,\n",
       "          0,   0,  13,  73,   0,   0,   1,   4,   0,   0,   0,   0,   1,\n",
       "          1,   0],\n",
       "       [  0,   0,   0,   0,   0,   0,   0,   0,   0,   0,   0,   0,   3,\n",
       "          0,  36, 136, 127,  62,  54,   0,   0,   0,   1,   3,   4,   0,\n",
       "          0,   3],\n",
       "       [  0,   0,   0,   0,   0,   0,   0,   0,   0,   0,   0,   0,   6,\n",
       "          0, 102, 204, 176, 134, 144, 123,  23,   0,   0,   0,   0,  12,\n",
       "         10,   0],\n",
       "       [  0,   0,   0,   0,   0,   0,   0,   0,   0,   0,   0,   0,   0,\n",
       "          0, 155, 236, 207, 178, 107, 156, 161, 109,  64,  23,  77, 130,\n",
       "         72,  15],\n",
       "       [  0,   0,   0,   0,   0,   0,   0,   0,   0,   0,   0,   1,   0,\n",
       "         69, 207, 223, 218, 216, 216, 163, 127, 121, 122, 146, 141,  88,\n",
       "        172,  66],\n",
       "       [  0,   0,   0,   0,   0,   0,   0,   0,   0,   1,   1,   1,   0,\n",
       "        200, 232, 232, 233, 229, 223, 223, 215, 213, 164, 127, 123, 196,\n",
       "        229,   0],\n",
       "       [  0,   0,   0,   0,   0,   0,   0,   0,   0,   0,   0,   0,   0,\n",
       "        183, 225, 216, 223, 228, 235, 227, 224, 222, 224, 221, 223, 245,\n",
       "        173,   0],\n",
       "       [  0,   0,   0,   0,   0,   0,   0,   0,   0,   0,   0,   0,   0,\n",
       "        193, 228, 218, 213, 198, 180, 212, 210, 211, 213, 223, 220, 243,\n",
       "        202,   0],\n",
       "       [  0,   0,   0,   0,   0,   0,   0,   0,   0,   1,   3,   0,  12,\n",
       "        219, 220, 212, 218, 192, 169, 227, 208, 218, 224, 212, 226, 197,\n",
       "        209,  52],\n",
       "       [  0,   0,   0,   0,   0,   0,   0,   0,   0,   0,   6,   0,  99,\n",
       "        244, 222, 220, 218, 203, 198, 221, 215, 213, 222, 220, 245, 119,\n",
       "        167,  56],\n",
       "       [  0,   0,   0,   0,   0,   0,   0,   0,   0,   4,   0,   0,  55,\n",
       "        236, 228, 230, 228, 240, 232, 213, 218, 223, 234, 217, 217, 209,\n",
       "         92,   0],\n",
       "       [  0,   0,   1,   4,   6,   7,   2,   0,   0,   0,   0,   0, 237,\n",
       "        226, 217, 223, 222, 219, 222, 221, 216, 223, 229, 215, 218, 255,\n",
       "         77,   0],\n",
       "       [  0,   3,   0,   0,   0,   0,   0,   0,   0,  62, 145, 204, 228,\n",
       "        207, 213, 221, 218, 208, 211, 218, 224, 223, 219, 215, 224, 244,\n",
       "        159,   0],\n",
       "       [  0,   0,   0,   0,  18,  44,  82, 107, 189, 228, 220, 222, 217,\n",
       "        226, 200, 205, 211, 230, 224, 234, 176, 188, 250, 248, 233, 238,\n",
       "        215,   0],\n",
       "       [  0,  57, 187, 208, 224, 221, 224, 208, 204, 214, 208, 209, 200,\n",
       "        159, 245, 193, 206, 223, 255, 255, 221, 234, 221, 211, 220, 232,\n",
       "        246,   0],\n",
       "       [  3, 202, 228, 224, 221, 211, 211, 214, 205, 205, 205, 220, 240,\n",
       "         80, 150, 255, 229, 221, 188, 154, 191, 210, 204, 209, 222, 228,\n",
       "        225,   0],\n",
       "       [ 98, 233, 198, 210, 222, 229, 229, 234, 249, 220, 194, 215, 217,\n",
       "        241,  65,  73, 106, 117, 168, 219, 221, 215, 217, 223, 223, 224,\n",
       "        229,  29],\n",
       "       [ 75, 204, 212, 204, 193, 205, 211, 225, 216, 185, 197, 206, 198,\n",
       "        213, 240, 195, 227, 245, 239, 223, 218, 212, 209, 222, 220, 221,\n",
       "        230,  67],\n",
       "       [ 48, 203, 183, 194, 213, 197, 185, 190, 194, 192, 202, 214, 219,\n",
       "        221, 220, 236, 225, 216, 199, 206, 186, 181, 177, 172, 181, 205,\n",
       "        206, 115],\n",
       "       [  0, 122, 219, 193, 179, 171, 183, 196, 204, 210, 213, 207, 211,\n",
       "        210, 200, 196, 194, 191, 195, 191, 198, 192, 176, 156, 167, 177,\n",
       "        210,  92],\n",
       "       [  0,   0,  74, 189, 212, 191, 175, 172, 175, 181, 185, 188, 189,\n",
       "        188, 193, 198, 204, 209, 210, 210, 211, 188, 188, 194, 192, 216,\n",
       "        170,   0],\n",
       "       [  2,   0,   0,   0,  66, 200, 222, 237, 239, 242, 246, 243, 244,\n",
       "        221, 220, 193, 191, 179, 182, 182, 181, 176, 166, 168,  99,  58,\n",
       "          0,   0],\n",
       "       [  0,   0,   0,   0,   0,   0,   0,  40,  61,  44,  72,  41,  35,\n",
       "          0,   0,   0,   0,   0,   0,   0,   0,   0,   0,   0,   0,   0,\n",
       "          0,   0],\n",
       "       [  0,   0,   0,   0,   0,   0,   0,   0,   0,   0,   0,   0,   0,\n",
       "          0,   0,   0,   0,   0,   0,   0,   0,   0,   0,   0,   0,   0,\n",
       "          0,   0],\n",
       "       [  0,   0,   0,   0,   0,   0,   0,   0,   0,   0,   0,   0,   0,\n",
       "          0,   0,   0,   0,   0,   0,   0,   0,   0,   0,   0,   0,   0,\n",
       "          0,   0]], dtype=uint8)"
      ]
     },
     "execution_count": 4,
     "metadata": {},
     "output_type": "execute_result"
    }
   ],
   "source": [
    "train_images[0]"
   ]
  },
  {
   "cell_type": "code",
   "execution_count": 5,
   "id": "09a4f649",
   "metadata": {},
   "outputs": [],
   "source": [
    "class_names = ['T-shirt/top', 'Trouser', 'Pullover', 'Dress', 'Coat',\n",
    "               'Sandal', 'Shirt', 'Sneaker', 'Bag', 'Ankle boot']\n"
   ]
  },
  {
   "cell_type": "code",
   "execution_count": 6,
   "id": "34822e49",
   "metadata": {},
   "outputs": [
    {
     "data": {
      "text/plain": [
       "(60000, 28, 28)"
      ]
     },
     "execution_count": 6,
     "metadata": {},
     "output_type": "execute_result"
    }
   ],
   "source": [
    "train_images.shape"
   ]
  },
  {
   "cell_type": "markdown",
   "id": "95658a84",
   "metadata": {},
   "source": [
    "## Preprocessing\n"
   ]
  },
  {
   "cell_type": "code",
   "execution_count": 7,
   "id": "2a9f7989",
   "metadata": {
    "scrolled": true
   },
   "outputs": [
    {
     "data": {
      "image/png": "[encoded data removed]",
      "text/plain": [
       "<Figure size 432x288 with 2 Axes>"
      ]
     },
     "metadata": {
      "needs_background": "light"
     },
     "output_type": "display_data"
    }
   ],
   "source": [
    "plt.figure()\n",
    "plt.imshow(train_images[0])\n",
    "plt.colorbar()\n",
    "plt.grid(False)\n",
    "plt.show()"
   ]
  },
  {
   "cell_type": "markdown",
   "id": "35018ec9",
   "metadata": {},
   "source": [
    "Scale the values from \\[0; 255\\] to \\[0; 1\\]"
   ]
  },
  {
   "cell_type": "code",
   "execution_count": 8,
   "id": "c0d4e676",
   "metadata": {},
   "outputs": [],
   "source": [
    "train_images = train_images / 255.0\n",
    "test_images = test_images / 255.0"
   ]
  },
  {
   "cell_type": "code",
   "execution_count": 9,
   "id": "73b87c93",
   "metadata": {},
   "outputs": [
    {
     "data": {
      "image/png": "[encoded data removed]",
      "text/plain": [
       "<Figure size 432x288 with 2 Axes>"
      ]
     },
     "metadata": {
      "needs_background": "light"
     },
     "output_type": "display_data"
    }
   ],
   "source": [
    "plt.figure()\n",
    "plt.imshow(train_images[0])\n",
    "plt.colorbar()\n",
    "plt.grid(False)\n",
    "plt.show()"
   ]
  },
  {
   "cell_type": "markdown",
   "id": "d1f04a61",
   "metadata": {},
   "source": [
    "## Building the Model\n",
    "The flatten layer takes the two dimensional array and returns a one dimensional array of the 28x28 = 784 pixels"
   ]
  },
  {
   "cell_type": "code",
   "execution_count": 10,
   "id": "2f1a5442",
   "metadata": {},
   "outputs": [],
   "source": [
    "model = tf.keras.Sequential([\n",
    "    tf.keras.layers.Flatten(input_shape=(28, 28)),\n",
    "    tf.keras.layers.Dense(128, activation='relu'),\n",
    "    tf.keras.layers.Dense(10)\n",
    "])"
   ]
  },
  {
   "cell_type": "markdown",
   "id": "64be8fbe",
   "metadata": {},
   "source": [
    "### Compiling the Model\n",
    "Compiling the model require few additional settings:\n",
    "* Loss Function: what to minimize\n",
    "* Optimizer: how the model is updated based on the data it sees and its loss function\n",
    "* Metrics: monitors the training and testing steps"
   ]
  },
  {
   "cell_type": "code",
   "execution_count": 11,
   "id": "e8f63867",
   "metadata": {},
   "outputs": [],
   "source": [
    "model.compile(optimizer='adam',\n",
    "              loss=tf.keras.losses.SparseCategoricalCrossentropy(from_logits=True),\n",
    "              metrics=['accuracy'])"
   ]
  },
  {
   "cell_type": "markdown",
   "id": "0842a949",
   "metadata": {},
   "source": [
    "## Training the Model"
   ]
  },
  {
   "cell_type": "code",
   "execution_count": 12,
   "id": "38a8965a",
   "metadata": {},
   "outputs": [
    {
     "name": "stdout",
     "output_type": "stream",
     "text": [
      "Epoch 1/10\n",
      "1875/1875 [==============================] - 3s 705us/step - loss: 0.4967 - accuracy: 0.8258\n",
      "Epoch 2/10\n",
      "1875/1875 [==============================] - 1s 700us/step - loss: 0.3732 - accuracy: 0.8660\n",
      "Epoch 3/10\n",
      "1875/1875 [==============================] - 1s 704us/step - loss: 0.3362 - accuracy: 0.8774\n",
      "Epoch 4/10\n",
      "1875/1875 [==============================] - 1s 705us/step - loss: 0.3119 - accuracy: 0.8862\n",
      "Epoch 5/10\n",
      "1875/1875 [==============================] - 1s 701us/step - loss: 0.2927 - accuracy: 0.8917\n",
      "Epoch 6/10\n",
      "1875/1875 [==============================] - 1s 709us/step - loss: 0.2802 - accuracy: 0.8968\n",
      "Epoch 7/10\n",
      "1875/1875 [==============================] - 1s 707us/step - loss: 0.2678 - accuracy: 0.9005\n",
      "Epoch 8/10\n",
      "1875/1875 [==============================] - 1s 708us/step - loss: 0.2561 - accuracy: 0.9043\n",
      "Epoch 9/10\n",
      "1875/1875 [==============================] - 1s 700us/step - loss: 0.2453 - accuracy: 0.9086\n",
      "Epoch 10/10\n",
      "1875/1875 [==============================] - 1s 708us/step - loss: 0.2380 - accuracy: 0.9115\n"
     ]
    },
    {
     "data": {
      "text/plain": [
       "<tensorflow.python.keras.callbacks.History at 0x7fbdca076d30>"
      ]
     },
     "execution_count": 12,
     "metadata": {},
     "output_type": "execute_result"
    }
   ],
   "source": [
    "model.fit(train_images, train_labels, epochs=10)"
   ]
  },
  {
   "cell_type": "code",
   "execution_count": 13,
   "id": "0f605263",
   "metadata": {},
   "outputs": [
    {
     "name": "stdout",
     "output_type": "stream",
     "text": [
      "313/313 - 0s - loss: 0.3486 - accuracy: 0.8792\n",
      "Testing accuracy:  0.8791999816894531\n"
     ]
    }
   ],
   "source": [
    "test_loss, test_acc = model.evaluate(test_images, test_labels, verbose=2)\n",
    "\n",
    "print('Testing accuracy: ', test_acc)"
   ]
  },
  {
   "cell_type": "markdown",
   "id": "d0f15815",
   "metadata": {},
   "source": [
    "# Text Classifcation\n",
    "Basic binary classifier for sentiment analysis on an IMDB dataset"
   ]
  },
  {
   "cell_type": "code",
   "execution_count": 2,
   "id": "fde30a22",
   "metadata": {},
   "outputs": [
    {
     "name": "stdout",
     "output_type": "stream",
     "text": [
      "2.5.0\n"
     ]
    }
   ],
   "source": [
    "# tensorflow and tf.keras\n",
    "import tensorflow as tf\n",
    "\n",
    "from tensorflow.keras import layers\n",
    "from tensorflow.keras import losses\n",
    "from tensorflow.keras import preprocessing\n",
    "from tensorflow.keras.layers.experimental.preprocessing import TextVectorization\n",
    "\n",
    "# helper libraries\n",
    "import numpy as np\n",
    "import matplotlib.pyplot as plt\n",
    "import os\n",
    "import re\n",
    "import shutil\n",
    "import string\n",
    "\n",
    "print(tf.__version__)"
   ]
  },
  {
   "cell_type": "code",
   "execution_count": 4,
   "id": "fb3b7fd4",
   "metadata": {},
   "outputs": [
    {
     "name": "stdout",
     "output_type": "stream",
     "text": [
      "Downloading data from https://ai.stanford.edu/~amaas/data/sentiment/aclImdb_v1.tar.gz\n",
      "84131840/84125825 [==============================] - 68s 1us/step\n"
     ]
    }
   ],
   "source": [
    "url = \"https://ai.stanford.edu/~amaas/data/sentiment/aclImdb_v1.tar.gz\"\n",
    "\n",
    "dataset = tf.keras.utils.get_file(\"aclImdb_v1\", url,\n",
    "                                  untar=True, cache_dir='.',\n",
    "                                  cache_subdir='')\n",
    "\n",
    "dataset_dir = os.path.join(os.path.dirname(dataset), 'aclImdb')"
   ]
  },
  {
   "cell_type": "code",
   "execution_count": 5,
   "id": "72bbac6b",
   "metadata": {},
   "outputs": [
    {
     "data": {
      "text/plain": [
       "['test', 'README', 'train', 'imdbEr.txt', 'imdb.vocab']"
      ]
     },
     "execution_count": 5,
     "metadata": {},
     "output_type": "execute_result"
    }
   ],
   "source": [
    "os.listdir(dataset_dir)"
   ]
  },
  {
   "cell_type": "code",
   "execution_count": 6,
   "id": "fdf40dfc",
   "metadata": {},
   "outputs": [
    {
     "data": {
      "text/plain": [
       "['labeledBow.feat',\n",
       " 'urls_pos.txt',\n",
       " 'unsupBow.feat',\n",
       " 'neg',\n",
       " 'urls_neg.txt',\n",
       " 'urls_unsup.txt',\n",
       " 'unsup',\n",
       " 'pos']"
      ]
     },
     "execution_count": 6,
     "metadata": {},
     "output_type": "execute_result"
    }
   ],
   "source": [
    "train_dir = os.path.join(dataset_dir, 'train')\n",
    "os.listdir(train_dir)"
   ]
  },
  {
   "cell_type": "markdown",
   "id": "aaf1f1dc",
   "metadata": {},
   "source": [
    "The 'pos' and 'neg' folders contain many single files with a review inside every one of them"
   ]
  },
  {
   "cell_type": "code",
   "execution_count": 7,
   "id": "c32a15fe",
   "metadata": {},
   "outputs": [
    {
     "name": "stdout",
     "output_type": "stream",
     "text": [
      "Rachel Griffiths writes and directs this award winning short film. A heartwarming story about coping with grief and cherishing the memory of those we've loved and lost. Although, only 15 minutes long, Griffiths manages to capture so much emotion and truth onto film in the short space of time. Bud Tingwell gives a touching performance as Will, a widower struggling to cope with his wife's death. Will is confronted by the harsh reality of loneliness and helplessness as he proceeds to take care of Ruth's pet cow, Tulip. The film displays the grief and responsibility one feels for those they have loved and lost. Good cinematography, great direction, and superbly acted. It will bring tears to all those who have lost a loved one, and survived.\n"
     ]
    }
   ],
   "source": [
    "sample_file = os.path.join(train_dir, 'pos/1181_9.txt')\n",
    "with open(sample_file) as f:\n",
    "    print(f.read())"
   ]
  },
  {
   "cell_type": "markdown",
   "id": "e98e6515",
   "metadata": {},
   "source": [
    "## Loading the Dataset\n",
    "Preparing the dataset into a format suitable for training\n",
    "\n",
    "The text_dataset_from_directory utility is very useful here\n",
    "\n",
    "Because it expects the directory to contain directories, each of which being labels, and inside being individual text files for that label, we need to remove the other directories"
   ]
  },
  {
   "cell_type": "code",
   "execution_count": 8,
   "id": "8c7003a7",
   "metadata": {},
   "outputs": [],
   "source": [
    "remove_dir = os.path.join(train_dir, 'unsup')\n",
    "shutil.rmtree(remove_dir)"
   ]
  },
  {
   "cell_type": "markdown",
   "id": "cabcfaaa",
   "metadata": {},
   "source": [
    "Now we use the utility from tf.data, a powerful collection of data related tools, to create a tf.data.Dataset\n",
    "\n",
    "We split the dataset into three splits: train, validation, test. The IMDB dataset already has the training and testing, so we'll create the validation using 80:20 split from the training data by using the 'validation_split' argument"
   ]
  },
  {
   "cell_type": "code",
   "execution_count": 9,
   "id": "b4e6afd4",
   "metadata": {},
   "outputs": [
    {
     "name": "stdout",
     "output_type": "stream",
     "text": [
      "Found 25000 files belonging to 2 classes.\n",
      "Using 20000 files for training.\n"
     ]
    }
   ],
   "source": [
    "batch_size = 32\n",
    "seed = 42\n",
    "\n",
    "raw_train_ds = tf.keras.preprocessing.text_dataset_from_directory(\n",
    "    'aclImdb/train',\n",
    "    batch_size=batch_size,\n",
    "    validation_split=0.2,\n",
    "    subset='training',\n",
    "    seed=seed\n",
    ")"
   ]
  },
  {
   "cell_type": "code",
   "execution_count": 10,
   "id": "f40ebd78",
   "metadata": {},
   "outputs": [
    {
     "name": "stdout",
     "output_type": "stream",
     "text": [
      "Review b'\"Pandemonium\" is a horror movie spoof that comes off more stupid than funny. Believe me when I tell you, I love comedies. Especially comedy spoofs. \"Airplane\", \"The Naked Gun\" trilogy, \"Blazing Saddles\", \"High Anxiety\", and \"Spaceballs\" are some of my favorite comedies that spoof a particular genre. \"Pandemonium\" is not up there with those films. Most of the scenes in this movie had me sitting there in stunned silence because the movie wasn\\'t all that funny. There are a few laughs in the film, but when you watch a comedy, you expect to laugh a lot more than a few times and that\\'s all this film has going for it. Geez, \"Scream\" had more laughs than this film and that was more of a horror film. How bizarre is that?<br /><br />*1/2 (out of four)'\n",
      "Label 0\n",
      "Review b\"David Mamet is a very interesting and a very un-equal director. His first movie 'House of Games' was the one I liked best, and it set a series of films with characters whose perspective of life changes as they get into complicated situations, and so does the perspective of the viewer.<br /><br />So is 'Homicide' which from the title tries to set the mind of the viewer to the usual crime drama. The principal characters are two cops, one Jewish and one Irish who deal with a racially charged area. The murder of an old Jewish shop owner who proves to be an ancient veteran of the Israeli Independence war triggers the Jewish identity in the mind and heart of the Jewish detective.<br /><br />This is were the flaws of the film are the more obvious. The process of awakening is theatrical and hard to believe, the group of Jewish militants is operatic, and the way the detective eventually walks to the final violent confrontation is pathetic. The end of the film itself is Mamet-like smart, but disappoints from a human emotional perspective.<br /><br />Joe Mantegna and William Macy give strong performances, but the flaws of the story are too evident to be easily compensated.\"\n",
      "Label 0\n",
      "Review b'Great documentary about the lives of NY firefighters during the worst terrorist attack of all time.. That reason alone is why this should be a must see collectors item.. What shocked me was not only the attacks, but the\"High Fat Diet\" and physical appearance of some of these firefighters. I think a lot of Doctors would agree with me that,in the physical shape they were in, some of these firefighters would NOT of made it to the 79th floor carrying over 60 lbs of gear. Having said that i now have a greater respect for firefighters and i realize becoming a firefighter is a life altering job. The French have a history of making great documentary\\'s and that is what this is, a Great Documentary.....'\n",
      "Label 1\n"
     ]
    }
   ],
   "source": [
    "for text_batch, label_batch in raw_train_ds.take(1):\n",
    "    for i in range(3):\n",
    "        print(\"Review\", text_batch.numpy()[i])\n",
    "        print(\"Label\", label_batch.numpy()[i])"
   ]
  },
  {
   "cell_type": "markdown",
   "id": "26b93680",
   "metadata": {},
   "source": [
    "To see which label is which:"
   ]
  },
  {
   "cell_type": "code",
   "execution_count": 11,
   "id": "b80f677e",
   "metadata": {},
   "outputs": [
    {
     "name": "stdout",
     "output_type": "stream",
     "text": [
      "Label 0: neg\n",
      "Label 1: pos\n"
     ]
    }
   ],
   "source": [
    "print('Label 0:', raw_train_ds.class_names[0])\n",
    "print('Label 1:', raw_train_ds.class_names[1])"
   ]
  },
  {
   "cell_type": "markdown",
   "id": "bbf6b0ea",
   "metadata": {},
   "source": [
    "### Creating the Validation set and Testing set"
   ]
  },
  {
   "cell_type": "code",
   "execution_count": 12,
   "id": "d658cf3d",
   "metadata": {},
   "outputs": [
    {
     "name": "stdout",
     "output_type": "stream",
     "text": [
      "Found 25000 files belonging to 2 classes.\n",
      "Using 5000 files for validation.\n"
     ]
    }
   ],
   "source": [
    "raw_val_ds = tf.keras.preprocessing.text_dataset_from_directory(\n",
    "    'aclImdb/train',\n",
    "    batch_size=batch_size,\n",
    "    validation_split=0.2,\n",
    "    subset='validation',\n",
    "    seed=seed\n",
    ")"
   ]
  },
  {
   "cell_type": "code",
   "execution_count": 13,
   "id": "884a9188",
   "metadata": {},
   "outputs": [
    {
     "name": "stdout",
     "output_type": "stream",
     "text": [
      "Found 25000 files belonging to 2 classes.\n"
     ]
    }
   ],
   "source": [
    "raw_test_ds = tf.keras.preprocessing.text_dataset_from_directory(\n",
    "    'aclImdb/test',\n",
    "    batch_size=batch_size\n",
    ")"
   ]
  },
  {
   "cell_type": "markdown",
   "id": "ed3fe72f",
   "metadata": {},
   "source": [
    "## Preprocessing\n",
    "Standardize, tokeniez, and vectorize the using the 'preprocessing.TextVectorization' layer\n",
    "\n",
    "Standardazation is preprocessing the text, typicall removing punctuaction or HTML to simplify the dataset\n",
    "\n",
    "Tokenization is splitting strings into tokens (eg. splitting a sentence into individual words by splitting on the whitespaces)\n",
    "\n",
    "Vectorization is converting the tokens into numbers so they can be fed into a neural network"
   ]
  },
  {
   "cell_type": "code",
   "execution_count": 14,
   "id": "ba140c93",
   "metadata": {},
   "outputs": [],
   "source": [
    "# custom function to remove HTML\n",
    "def custom_standardization(input_data):\n",
    "    lowercase = tf.strings.lower(input_data)\n",
    "    stripped_html = tf.strings.regex_replace(lowercase, '<br />', ' ')\n",
    "    return tf.strings.regex_replace(stripped_html,\n",
    "                                    '[%s]' % re.escape(string.punctuation),\n",
    "                                    '')"
   ]
  },
  {
   "cell_type": "code",
   "execution_count": 15,
   "id": "5fa2452b",
   "metadata": {},
   "outputs": [],
   "source": [
    "# TextVectorization layer to do all the afforementioned stuff\n",
    "# output_mode being int creates unique integer indices for each token\n",
    "# explicit maximum sequence_length adds the layer to pad or truncate sequence to fit exactly to the length\n",
    "\n",
    "max_features = 10000\n",
    "sequence_length = 250\n",
    "\n",
    "vectorize_layer = TextVectorization(\n",
    "    standardize=custom_standardization,\n",
    "    max_tokens=max_features,\n",
    "    output_mode='int',\n",
    "    output_sequence_length=sequence_length\n",
    ")"
   ]
  },
  {
   "cell_type": "code",
   "execution_count": 16,
   "id": "ef0b7e63",
   "metadata": {},
   "outputs": [],
   "source": [
    "# make a text-only dataset (without labels), then call adapt\n",
    "train_text = raw_train_ds.map(lambda x, y: x)\n",
    "vectorize_layer.adapt(train_text)"
   ]
  },
  {
   "cell_type": "code",
   "execution_count": 17,
   "id": "ffa5f540",
   "metadata": {},
   "outputs": [
    {
     "name": "stdout",
     "output_type": "stream",
     "text": [
      "Review tf.Tensor(b'Great movie - especially the music - Etta James - \"At Last\". This speaks volumes when you have finally found that special someone.', shape=(), dtype=string)\n",
      "Label neg\n",
      "Vectorized review (<tf.Tensor: shape=(1, 250), dtype=int64, numpy=\n",
      "array([[  86,   17,  260,    2,  222,    1,  571,   31,  229,   11, 2418,\n",
      "           1,   51,   22,   25,  404,  251,   12,  306,  282,    0,    0,\n",
      "           0,    0,    0,    0,    0,    0,    0,    0,    0,    0,    0,\n",
      "           0,    0,    0,    0,    0,    0,    0,    0,    0,    0,    0,\n",
      "           0,    0,    0,    0,    0,    0,    0,    0,    0,    0,    0,\n",
      "           0,    0,    0,    0,    0,    0,    0,    0,    0,    0,    0,\n",
      "           0,    0,    0,    0,    0,    0,    0,    0,    0,    0,    0,\n",
      "           0,    0,    0,    0,    0,    0,    0,    0,    0,    0,    0,\n",
      "           0,    0,    0,    0,    0,    0,    0,    0,    0,    0,    0,\n",
      "           0,    0,    0,    0,    0,    0,    0,    0,    0,    0,    0,\n",
      "           0,    0,    0,    0,    0,    0,    0,    0,    0,    0,    0,\n",
      "           0,    0,    0,    0,    0,    0,    0,    0,    0,    0,    0,\n",
      "           0,    0,    0,    0,    0,    0,    0,    0,    0,    0,    0,\n",
      "           0,    0,    0,    0,    0,    0,    0,    0,    0,    0,    0,\n",
      "           0,    0,    0,    0,    0,    0,    0,    0,    0,    0,    0,\n",
      "           0,    0,    0,    0,    0,    0,    0,    0,    0,    0,    0,\n",
      "           0,    0,    0,    0,    0,    0,    0,    0,    0,    0,    0,\n",
      "           0,    0,    0,    0,    0,    0,    0,    0,    0,    0,    0,\n",
      "           0,    0,    0,    0,    0,    0,    0,    0,    0,    0,    0,\n",
      "           0,    0,    0,    0,    0,    0,    0,    0,    0,    0,    0,\n",
      "           0,    0,    0,    0,    0,    0,    0,    0,    0,    0,    0,\n",
      "           0,    0,    0,    0,    0,    0,    0,    0,    0,    0,    0,\n",
      "           0,    0,    0,    0,    0,    0,    0,    0]])>, <tf.Tensor: shape=(), dtype=int32, numpy=0>)\n"
     ]
    }
   ],
   "source": [
    "# a function to see the result of using this layer to preprocess some data\n",
    "def vectorize_text(text, label):\n",
    "    text = tf.expand_dims(text, -1)\n",
    "    return vectorize_layer(text), label\n",
    "\n",
    "# retrieve a batch of 32 reviews and labels from the dataset\n",
    "text_batch, label_batch = next(iter(raw_train_ds))\n",
    "first_review, first_label = text_batch[0], label_batch[0]\n",
    "\n",
    "print('Review', first_review)\n",
    "print('Label', raw_train_ds.class_names[first_label])\n",
    "print('Vectorized review', vectorize_text(first_review, first_label))"
   ]
  },
  {
   "cell_type": "code",
   "execution_count": 18,
   "id": "4dbf2511",
   "metadata": {},
   "outputs": [
    {
     "data": {
      "text/plain": [
       "['',\n",
       " '[UNK]',\n",
       " 'the',\n",
       " 'and',\n",
       " 'a',\n",
       " 'of',\n",
       " 'to',\n",
       " 'is',\n",
       " 'in',\n",
       " 'it',\n",
       " 'i',\n",
       " 'this',\n",
       " 'that',\n",
       " 'was',\n",
       " 'as',\n",
       " 'for',\n",
       " 'with',\n",
       " 'movie',\n",
       " 'but',\n",
       " 'film',\n",
       " 'on',\n",
       " 'not',\n",
       " 'you',\n",
       " 'are',\n",
       " 'his',\n",
       " 'have',\n",
       " 'be',\n",
       " 'he',\n",
       " 'one',\n",
       " 'its',\n",
       " 'all',\n",
       " 'at',\n",
       " 'by',\n",
       " 'an',\n",
       " 'they',\n",
       " 'from',\n",
       " 'who',\n",
       " 'so',\n",
       " 'like',\n",
       " 'her',\n",
       " 'just',\n",
       " 'or',\n",
       " 'about',\n",
       " 'has',\n",
       " 'out',\n",
       " 'if',\n",
       " 'some',\n",
       " 'there',\n",
       " 'what',\n",
       " 'good',\n",
       " 'more',\n",
       " 'when',\n",
       " 'very',\n",
       " 'even',\n",
       " 'my',\n",
       " 'she',\n",
       " 'up',\n",
       " 'no',\n",
       " 'time',\n",
       " 'would',\n",
       " 'which',\n",
       " 'only',\n",
       " 'really',\n",
       " 'story',\n",
       " 'their',\n",
       " 'were',\n",
       " 'had',\n",
       " 'see',\n",
       " 'can',\n",
       " 'me',\n",
       " 'than',\n",
       " 'we',\n",
       " 'much',\n",
       " 'well',\n",
       " 'been',\n",
       " 'get',\n",
       " 'will',\n",
       " 'also',\n",
       " 'other',\n",
       " 'people',\n",
       " 'bad',\n",
       " 'into',\n",
       " 'do',\n",
       " 'first',\n",
       " 'because',\n",
       " 'him',\n",
       " 'great',\n",
       " 'how',\n",
       " 'most',\n",
       " 'dont',\n",
       " 'made',\n",
       " 'movies',\n",
       " 'then',\n",
       " 'them',\n",
       " 'films',\n",
       " 'way',\n",
       " 'make',\n",
       " 'any',\n",
       " 'could',\n",
       " 'too',\n",
       " 'characters',\n",
       " 'after',\n",
       " 'think',\n",
       " 'watch',\n",
       " 'two',\n",
       " 'seen',\n",
       " 'character',\n",
       " 'many',\n",
       " 'being',\n",
       " 'acting',\n",
       " 'never',\n",
       " 'plot',\n",
       " 'little',\n",
       " 'best',\n",
       " 'where',\n",
       " 'love',\n",
       " 'life',\n",
       " 'did',\n",
       " 'know',\n",
       " 'show',\n",
       " 'does',\n",
       " 'ever',\n",
       " 'better',\n",
       " 'your',\n",
       " 'end',\n",
       " 'still',\n",
       " 'over',\n",
       " 'off',\n",
       " 'here',\n",
       " 'these',\n",
       " 'man',\n",
       " 'say',\n",
       " 'while',\n",
       " 'why',\n",
       " 'scene',\n",
       " 'such',\n",
       " 'scenes',\n",
       " 'go',\n",
       " 'something',\n",
       " 'should',\n",
       " 'through',\n",
       " 'im',\n",
       " 'back',\n",
       " 'those',\n",
       " 'doesnt',\n",
       " 'real',\n",
       " 'watching',\n",
       " 'though',\n",
       " 'now',\n",
       " 'years',\n",
       " 'thing',\n",
       " 'actors',\n",
       " 'didnt',\n",
       " 'before',\n",
       " 'another',\n",
       " 'nothing',\n",
       " 'new',\n",
       " 'actually',\n",
       " 'makes',\n",
       " 'work',\n",
       " 'funny',\n",
       " 'old',\n",
       " 'look',\n",
       " 'find',\n",
       " 'same',\n",
       " 'every',\n",
       " 'few',\n",
       " 'us',\n",
       " 'going',\n",
       " 'again',\n",
       " 'part',\n",
       " 'lot',\n",
       " 'director',\n",
       " 'cast',\n",
       " 'cant',\n",
       " 'things',\n",
       " 'quite',\n",
       " 'thats',\n",
       " 'want',\n",
       " 'pretty',\n",
       " 'seems',\n",
       " 'young',\n",
       " 'world',\n",
       " 'around',\n",
       " 'got',\n",
       " 'down',\n",
       " 'fact',\n",
       " 'enough',\n",
       " 'between',\n",
       " 'however',\n",
       " 'take',\n",
       " 'horror',\n",
       " 'both',\n",
       " 'give',\n",
       " 'may',\n",
       " 'ive',\n",
       " 'own',\n",
       " 'thought',\n",
       " 'original',\n",
       " 'big',\n",
       " 'series',\n",
       " 'gets',\n",
       " 'without',\n",
       " 'come',\n",
       " 'always',\n",
       " 'right',\n",
       " 'times',\n",
       " 'isnt',\n",
       " 'saw',\n",
       " 'long',\n",
       " 'least',\n",
       " 'whole',\n",
       " 'theres',\n",
       " 'point',\n",
       " 'role',\n",
       " 'family',\n",
       " 'action',\n",
       " 'interesting',\n",
       " 'almost',\n",
       " 'must',\n",
       " 'comedy',\n",
       " 'bit',\n",
       " 'music',\n",
       " 'done',\n",
       " 'script',\n",
       " 'guy',\n",
       " 'minutes',\n",
       " 'might',\n",
       " 'anything',\n",
       " 'last',\n",
       " 'since',\n",
       " 'far',\n",
       " 'feel',\n",
       " 'hes',\n",
       " 'performance',\n",
       " 'probably',\n",
       " 'kind',\n",
       " 'am',\n",
       " 'away',\n",
       " 'rather',\n",
       " 'yet',\n",
       " 'worst',\n",
       " 'sure',\n",
       " 'tv',\n",
       " 'fun',\n",
       " 'each',\n",
       " 'woman',\n",
       " 'girl',\n",
       " 'played',\n",
       " 'making',\n",
       " 'anyone',\n",
       " 'found',\n",
       " 'our',\n",
       " 'having',\n",
       " 'although',\n",
       " 'comes',\n",
       " 'believe',\n",
       " 'day',\n",
       " 'trying',\n",
       " 'course',\n",
       " 'especially',\n",
       " 'goes',\n",
       " 'looks',\n",
       " 'different',\n",
       " 'hard',\n",
       " 'place',\n",
       " 'shows',\n",
       " 'book',\n",
       " 'put',\n",
       " 'wasnt',\n",
       " 'ending',\n",
       " 'sense',\n",
       " 'once',\n",
       " 'reason',\n",
       " 'true',\n",
       " 'main',\n",
       " 'everything',\n",
       " 'screen',\n",
       " 'maybe',\n",
       " 'money',\n",
       " 'worth',\n",
       " 'together',\n",
       " 'someone',\n",
       " 'job',\n",
       " '2',\n",
       " 'actor',\n",
       " 'set',\n",
       " 'dvd',\n",
       " 'looking',\n",
       " 'watched',\n",
       " 'plays',\n",
       " 'instead',\n",
       " 'said',\n",
       " 'play',\n",
       " 'takes',\n",
       " 'seem',\n",
       " '10',\n",
       " 'three',\n",
       " 'later',\n",
       " 'beautiful',\n",
       " 'effects',\n",
       " 'himself',\n",
       " 'everyone',\n",
       " 'during',\n",
       " 'excellent',\n",
       " 'audience',\n",
       " 'special',\n",
       " 'john',\n",
       " 'left',\n",
       " 'house',\n",
       " 'version',\n",
       " 'seeing',\n",
       " 'american',\n",
       " 'night',\n",
       " 'idea',\n",
       " 'shot',\n",
       " 'nice',\n",
       " 'wife',\n",
       " 'simply',\n",
       " 'help',\n",
       " 'else',\n",
       " 'black',\n",
       " 'less',\n",
       " 'death',\n",
       " 'read',\n",
       " 'fan',\n",
       " 'star',\n",
       " 'youre',\n",
       " 'kids',\n",
       " 'war',\n",
       " 'used',\n",
       " 'high',\n",
       " 'father',\n",
       " 'second',\n",
       " 'completely',\n",
       " 'friends',\n",
       " 'year',\n",
       " 'wrong',\n",
       " 'either',\n",
       " 'mind',\n",
       " 'given',\n",
       " 'performances',\n",
       " 'poor',\n",
       " 'use',\n",
       " 'try',\n",
       " 'home',\n",
       " 'boring',\n",
       " 'enjoy',\n",
       " 'men',\n",
       " 'need',\n",
       " 'short',\n",
       " 'rest',\n",
       " 'classic',\n",
       " 'truly',\n",
       " 'hollywood',\n",
       " 'until',\n",
       " 'line',\n",
       " 'next',\n",
       " 'along',\n",
       " 'production',\n",
       " 'couple',\n",
       " 'tell',\n",
       " 'dead',\n",
       " 'half',\n",
       " 'others',\n",
       " 'awful',\n",
       " 'remember',\n",
       " 'recommend',\n",
       " 'start',\n",
       " 'moments',\n",
       " 'let',\n",
       " 'came',\n",
       " 'keep',\n",
       " 'perhaps',\n",
       " 'full',\n",
       " 'episode',\n",
       " 'understand',\n",
       " 'stupid',\n",
       " 'stars',\n",
       " 'camera',\n",
       " 'mean',\n",
       " 'women',\n",
       " 'terrible',\n",
       " 'getting',\n",
       " 'doing',\n",
       " 'playing',\n",
       " 'wonderful',\n",
       " 'definitely',\n",
       " 'sex',\n",
       " 'small',\n",
       " 'human',\n",
       " 'often',\n",
       " 'gives',\n",
       " 'name',\n",
       " 'become',\n",
       " 'early',\n",
       " 'video',\n",
       " 'perfect',\n",
       " 'face',\n",
       " 'dialogue',\n",
       " 'itself',\n",
       " 'case',\n",
       " 'lines',\n",
       " 'couldnt',\n",
       " 'finally',\n",
       " 'person',\n",
       " 'felt',\n",
       " 'lost',\n",
       " 'waste',\n",
       " 'absolutely',\n",
       " 'title',\n",
       " 'piece',\n",
       " 'supposed',\n",
       " 'school',\n",
       " 'liked',\n",
       " 'top',\n",
       " 'budget',\n",
       " 'entire',\n",
       " 'written',\n",
       " 'live',\n",
       " 'yes',\n",
       " 'worse',\n",
       " 'hope',\n",
       " 'against',\n",
       " 'entertaining',\n",
       " 'sort',\n",
       " 'went',\n",
       " 'shes',\n",
       " 'head',\n",
       " 'problem',\n",
       " 'picture',\n",
       " 'overall',\n",
       " 'certainly',\n",
       " 'style',\n",
       " 'cinema',\n",
       " 'beginning',\n",
       " 'boy',\n",
       " 'evil',\n",
       " 'care',\n",
       " 'fans',\n",
       " 'several',\n",
       " 'white',\n",
       " 'lives',\n",
       " 'based',\n",
       " 'mother',\n",
       " 'example',\n",
       " 'loved',\n",
       " 'dark',\n",
       " 'direction',\n",
       " 'oh',\n",
       " 'id',\n",
       " 'already',\n",
       " '3',\n",
       " 'seemed',\n",
       " 'mr',\n",
       " 'wanted',\n",
       " 'becomes',\n",
       " 'children',\n",
       " 'throughout',\n",
       " 'turn',\n",
       " 'unfortunately',\n",
       " 'guys',\n",
       " 'despite',\n",
       " 'amazing',\n",
       " 'wont',\n",
       " 'final',\n",
       " 'killer',\n",
       " 'fine',\n",
       " 'history',\n",
       " 'friend',\n",
       " 'guess',\n",
       " 'totally',\n",
       " 'laugh',\n",
       " '1',\n",
       " 'humor',\n",
       " 'wants',\n",
       " 'days',\n",
       " 'sound',\n",
       " 'girls',\n",
       " 'drama',\n",
       " 'behind',\n",
       " 'low',\n",
       " 'works',\n",
       " 'youll',\n",
       " 'michael',\n",
       " '\\x96',\n",
       " 'lead',\n",
       " 'turns',\n",
       " 'called',\n",
       " 'son',\n",
       " 'quality',\n",
       " 'past',\n",
       " 'game',\n",
       " 'able',\n",
       " 'tries',\n",
       " 'gave',\n",
       " 'writing',\n",
       " 'act',\n",
       " 'under',\n",
       " 'theyre',\n",
       " 'favorite',\n",
       " 'starts',\n",
       " 'enjoyed',\n",
       " 'genre',\n",
       " 'side',\n",
       " 'horrible',\n",
       " 'brilliant',\n",
       " 'expect',\n",
       " 'viewer',\n",
       " 'town',\n",
       " 'flick',\n",
       " 'eyes',\n",
       " 'kill',\n",
       " 'themselves',\n",
       " 'stories',\n",
       " 'ones',\n",
       " 'actress',\n",
       " 'sometimes',\n",
       " 'parts',\n",
       " 'soon',\n",
       " 'thinking',\n",
       " 'car',\n",
       " 'obviously',\n",
       " 'directed',\n",
       " 'stuff',\n",
       " 'art',\n",
       " 'heart',\n",
       " 'feeling',\n",
       " 'blood',\n",
       " 'decent',\n",
       " 'run',\n",
       " 'matter',\n",
       " 'etc',\n",
       " 'fight',\n",
       " 'says',\n",
       " 'myself',\n",
       " 'leave',\n",
       " 'child',\n",
       " 'late',\n",
       " 'ill',\n",
       " 'highly',\n",
       " 'cannot',\n",
       " 'hand',\n",
       " 'moment',\n",
       " 'close',\n",
       " 'city',\n",
       " 'killed',\n",
       " 'roles',\n",
       " 'heard',\n",
       " 'except',\n",
       " 'hell',\n",
       " 'took',\n",
       " 'wouldnt',\n",
       " 'happened',\n",
       " 'kid',\n",
       " 'complete',\n",
       " 'strong',\n",
       " 'lack',\n",
       " 'particularly',\n",
       " 'police',\n",
       " 'happens',\n",
       " 'told',\n",
       " 'happen',\n",
       " 'hour',\n",
       " 'anyway',\n",
       " 'involved',\n",
       " 'wonder',\n",
       " 'daughter',\n",
       " 'attempt',\n",
       " 'extremely',\n",
       " 'violence',\n",
       " 'james',\n",
       " 'voice',\n",
       " 'living',\n",
       " 'coming',\n",
       " 'chance',\n",
       " 'obvious',\n",
       " 'none',\n",
       " 'murder',\n",
       " 'alone',\n",
       " 'including',\n",
       " 'shown',\n",
       " 'score',\n",
       " 'please',\n",
       " 'experience',\n",
       " 'simple',\n",
       " 'save',\n",
       " 'looked',\n",
       " 'age',\n",
       " 'ago',\n",
       " 'group',\n",
       " 'crap',\n",
       " 'annoying',\n",
       " 'serious',\n",
       " 'gore',\n",
       " 'type',\n",
       " 'god',\n",
       " 'song',\n",
       " 'interest',\n",
       " 'cinematography',\n",
       " 'taken',\n",
       " 'sad',\n",
       " 'slow',\n",
       " 'brother',\n",
       " 'exactly',\n",
       " 'hours',\n",
       " 'started',\n",
       " 'ok',\n",
       " 'career',\n",
       " 'lets',\n",
       " 'ends',\n",
       " 'possible',\n",
       " 'yourself',\n",
       " 'usually',\n",
       " 'released',\n",
       " 'hilarious',\n",
       " 'usual',\n",
       " 'jokes',\n",
       " 'stop',\n",
       " 'david',\n",
       " 'hit',\n",
       " 'scary',\n",
       " 'musical',\n",
       " 'across',\n",
       " 'whose',\n",
       " 'huge',\n",
       " 'cool',\n",
       " 'number',\n",
       " 'seriously',\n",
       " 'relationship',\n",
       " 'known',\n",
       " 'finds',\n",
       " 'change',\n",
       " 'running',\n",
       " 'opening',\n",
       " 'opinion',\n",
       " 'mostly',\n",
       " 'today',\n",
       " 'female',\n",
       " 'robert',\n",
       " 'episodes',\n",
       " 'cut',\n",
       " 'talent',\n",
       " 'body',\n",
       " 'novel',\n",
       " 'ridiculous',\n",
       " 'saying',\n",
       " 'shots',\n",
       " 'english',\n",
       " 'somewhat',\n",
       " 'events',\n",
       " 'strange',\n",
       " 'power',\n",
       " 'major',\n",
       " 'happy',\n",
       " 'reality',\n",
       " 'order',\n",
       " 'talking',\n",
       " 'basically',\n",
       " 'important',\n",
       " 'hero',\n",
       " '5',\n",
       " 'level',\n",
       " 'wish',\n",
       " 'easily',\n",
       " 'disappointed',\n",
       " 'knew',\n",
       " 'taking',\n",
       " 'room',\n",
       " '4',\n",
       " 'view',\n",
       " 'attention',\n",
       " 'husband',\n",
       " 'tells',\n",
       " 'directors',\n",
       " 'call',\n",
       " 'apparently',\n",
       " 'words',\n",
       " 'single',\n",
       " 'supporting',\n",
       " 'earth',\n",
       " 'british',\n",
       " 'knows',\n",
       " 'king',\n",
       " 'due',\n",
       " 'silly',\n",
       " 'problems',\n",
       " 'documentary',\n",
       " 'clearly',\n",
       " 'songs',\n",
       " 'local',\n",
       " 'arent',\n",
       " 'whats',\n",
       " 'rating',\n",
       " 'light',\n",
       " 'four',\n",
       " 'turned',\n",
       " 'similar',\n",
       " 'cheap',\n",
       " 'word',\n",
       " 'paul',\n",
       " 'future',\n",
       " 'falls',\n",
       " 'sets',\n",
       " 'jack',\n",
       " 'comic',\n",
       " 'beyond',\n",
       " 'whether',\n",
       " 'television',\n",
       " 'modern',\n",
       " 'viewers',\n",
       " 'country',\n",
       " 'review',\n",
       " 'five',\n",
       " 'animation',\n",
       " 'miss',\n",
       " 'sequence',\n",
       " 'bring',\n",
       " 'upon',\n",
       " 'rock',\n",
       " 'richard',\n",
       " 'within',\n",
       " 'george',\n",
       " 'appears',\n",
       " 'predictable',\n",
       " 'giving',\n",
       " 'sequel',\n",
       " 'enjoyable',\n",
       " 'talk',\n",
       " 'lady',\n",
       " 'add',\n",
       " 'theme',\n",
       " 'actual',\n",
       " 'herself',\n",
       " 'bunch',\n",
       " 'points',\n",
       " 'romantic',\n",
       " 'storyline',\n",
       " 'feels',\n",
       " 'theater',\n",
       " 'red',\n",
       " 'lots',\n",
       " 'message',\n",
       " 'mystery',\n",
       " 'needs',\n",
       " 'entertainment',\n",
       " 'above',\n",
       " 'surprised',\n",
       " 'among',\n",
       " 'nearly',\n",
       " 'mention',\n",
       " 'parents',\n",
       " 'moving',\n",
       " 'havent',\n",
       " 'ten',\n",
       " 'team',\n",
       " 'tom',\n",
       " 'dull',\n",
       " 'release',\n",
       " 'fall',\n",
       " 'ways',\n",
       " 'named',\n",
       " 'begins',\n",
       " 'season',\n",
       " 'easy',\n",
       " 'effort',\n",
       " 'dialog',\n",
       " 'fantastic',\n",
       " 'elements',\n",
       " 'typical',\n",
       " 'tried',\n",
       " 'comments',\n",
       " 'york',\n",
       " 'working',\n",
       " 'avoid',\n",
       " 'peter',\n",
       " 'general',\n",
       " 'thriller',\n",
       " 'somehow',\n",
       " 'middle',\n",
       " 'certain',\n",
       " 'near',\n",
       " 'feature',\n",
       " 'using',\n",
       " 'straight',\n",
       " 'eye',\n",
       " 'leads',\n",
       " 'writer',\n",
       " 'class',\n",
       " 'form',\n",
       " 'kept',\n",
       " 'figure',\n",
       " 'famous',\n",
       " 'check',\n",
       " 'weak',\n",
       " 'tale',\n",
       " 'buy',\n",
       " 'sequences',\n",
       " 'greatest',\n",
       " 'hate',\n",
       " 'french',\n",
       " 'showing',\n",
       " 'material',\n",
       " 'doubt',\n",
       " 'particular',\n",
       " 'editing',\n",
       " 'space',\n",
       " 'sorry',\n",
       " 'lame',\n",
       " 'clear',\n",
       " 'means',\n",
       " 'stay',\n",
       " 'gone',\n",
       " 'sister',\n",
       " 'filmed',\n",
       " 'realistic',\n",
       " 'soundtrack',\n",
       " 'learn',\n",
       " 'lee',\n",
       " 'wait',\n",
       " 'decided',\n",
       " 'follow',\n",
       " 'die',\n",
       " 'viewing',\n",
       " 'imagine',\n",
       " 'fast',\n",
       " 'poorly',\n",
       " 'oscar',\n",
       " 'deal',\n",
       " 'hear',\n",
       " 'reviews',\n",
       " 'atmosphere',\n",
       " 'truth',\n",
       " 'dance',\n",
       " 'eventually',\n",
       " 'move',\n",
       " 'youve',\n",
       " 'crime',\n",
       " 'third',\n",
       " 'surprise',\n",
       " 'period',\n",
       " 'whos',\n",
       " 'brought',\n",
       " 'indeed',\n",
       " 'suspense',\n",
       " 'sexual',\n",
       " 'killing',\n",
       " 'writers',\n",
       " 'whatever',\n",
       " 'subject',\n",
       " 'nature',\n",
       " 'forget',\n",
       " 'expected',\n",
       " 'zombie',\n",
       " 'sit',\n",
       " 'premise',\n",
       " 'de',\n",
       " 'believable',\n",
       " '80s',\n",
       " 'possibly',\n",
       " 'screenplay',\n",
       " 'filmmakers',\n",
       " 'rent',\n",
       " 'nor',\n",
       " 'japanese',\n",
       " 'emotional',\n",
       " 'begin',\n",
       " 'romance',\n",
       " 'baby',\n",
       " 'stand',\n",
       " 'note',\n",
       " 'average',\n",
       " 'okay',\n",
       " 'needed',\n",
       " 'leaves',\n",
       " 'difficult',\n",
       " 'memorable',\n",
       " 'situation',\n",
       " 'otherwise',\n",
       " 'meets',\n",
       " 'question',\n",
       " 'dramatic',\n",
       " 'credits',\n",
       " 'disney',\n",
       " 'boys',\n",
       " 'became',\n",
       " 'superb',\n",
       " 'dr',\n",
       " 'shame',\n",
       " 'footage',\n",
       " 'dog',\n",
       " 'reading',\n",
       " 'forced',\n",
       " 'earlier',\n",
       " 'write',\n",
       " 'stage',\n",
       " 'realize',\n",
       " 'older',\n",
       " 'meet',\n",
       " 'street',\n",
       " 'badly',\n",
       " 'sounds',\n",
       " 'comment',\n",
       " 'ask',\n",
       " 'america',\n",
       " 'total',\n",
       " 'quickly',\n",
       " 'brings',\n",
       " 'weird',\n",
       " 'minute',\n",
       " 'keeps',\n",
       " 'whom',\n",
       " 'unless',\n",
       " 'plenty',\n",
       " 'free',\n",
       " 'features',\n",
       " 'create',\n",
       " 'society',\n",
       " 'development',\n",
       " 'mess',\n",
       " 'interested',\n",
       " 'deep',\n",
       " 'imdb',\n",
       " 'effect',\n",
       " 'beauty',\n",
       " 'setting',\n",
       " 'casting',\n",
       " 'worked',\n",
       " 'potential',\n",
       " 'result',\n",
       " 'incredibly',\n",
       " 'hot',\n",
       " 'crazy',\n",
       " 'personal',\n",
       " 'directing',\n",
       " 'creepy',\n",
       " 'towards',\n",
       " 'plus',\n",
       " 'male',\n",
       " 'b',\n",
       " 'perfectly',\n",
       " 'mark',\n",
       " 'meant',\n",
       " 'various',\n",
       " 'dream',\n",
       " 'laughs',\n",
       " 'return',\n",
       " 'hands',\n",
       " 'apart',\n",
       " 'battle',\n",
       " '20',\n",
       " 'admit',\n",
       " 'hardly',\n",
       " 'unique',\n",
       " 'previous',\n",
       " 'fails',\n",
       " 'business',\n",
       " 'cheesy',\n",
       " 'remake',\n",
       " 'open',\n",
       " 'leading',\n",
       " 'air',\n",
       " 'missing',\n",
       " 'masterpiece',\n",
       " 'manages',\n",
       " 'inside',\n",
       " 'reasons',\n",
       " 'dumb',\n",
       " 'secret',\n",
       " 'joe',\n",
       " 'forward',\n",
       " 'fantasy',\n",
       " 'scifi',\n",
       " 'fire',\n",
       " 'powerful',\n",
       " 'portrayed',\n",
       " 'joke',\n",
       " 'appear',\n",
       " 'ideas',\n",
       " 'brothers',\n",
       " '70s',\n",
       " 'success',\n",
       " 'monster',\n",
       " 'match',\n",
       " 'christmas',\n",
       " 'background',\n",
       " 'recently',\n",
       " 'bill',\n",
       " 'unlike',\n",
       " 'twist',\n",
       " 'la',\n",
       " 'fighting',\n",
       " 'deserves',\n",
       " 'attempts',\n",
       " 'outside',\n",
       " 'spoilers',\n",
       " 'fairly',\n",
       " 'following',\n",
       " 'front',\n",
       " 'break',\n",
       " ...]"
      ]
     },
     "execution_count": 18,
     "metadata": {},
     "output_type": "execute_result"
    }
   ],
   "source": [
    "vectorize_layer.get_vocabulary()"
   ]
  },
  {
   "cell_type": "code",
   "execution_count": 19,
   "id": "1705b6df",
   "metadata": {},
   "outputs": [],
   "source": [
    "# finally, run the TextVectorization layer on all the datasets\n",
    "train_ds = raw_train_ds.map(vectorize_text)\n",
    "val_ds = raw_val_ds.map(vectorize_text)\n",
    "test_ds = raw_test_ds.map(vectorize_text)"
   ]
  },
  {
   "cell_type": "markdown",
   "id": "d027b571",
   "metadata": {},
   "source": [
    "## Dataset Performance\n",
    "Two methods to use to make sure I/O does not become blocking:\n",
    "\n",
    "'.cache()' keeps data in memory after it's loaded into disk. If dataset is too large for memory, can be used to create a performant on disk cache\n",
    "\n",
    "'.prefetch()' overlaps data preprocessing and model execution while training\n"
   ]
  },
  {
   "cell_type": "code",
   "execution_count": 20,
   "id": "d1e5b1cb",
   "metadata": {},
   "outputs": [],
   "source": [
    "AUTOTUNE = tf.data.AUTOTUNE\n",
    "\n",
    "train_ds = train_ds.cache().prefetch(buffer_size=AUTOTUNE)\n",
    "val_ds = val_ds.cache().prefetch(buffer_size=AUTOTUNE)\n",
    "test_ds = test_ds.cache().prefetch(buffer_size=AUTOTUNE)"
   ]
  },
  {
   "cell_type": "markdown",
   "id": "6f16204e",
   "metadata": {},
   "source": [
    "## Creating the Model"
   ]
  },
  {
   "cell_type": "code",
   "execution_count": 50,
   "id": "1f045368",
   "metadata": {},
   "outputs": [
    {
     "name": "stdout",
     "output_type": "stream",
     "text": [
      "Model: \"sequential_1\"\n",
      "_________________________________________________________________\n",
      "Layer (type)                 Output Shape              Param #   \n",
      "=================================================================\n",
      "embedding (Embedding)        (None, None, 16)          160016    \n",
      "_________________________________________________________________\n",
      "dropout (Dropout)            (None, None, 16)          0         \n",
      "_________________________________________________________________\n",
      "global_average_pooling1d (Gl (None, 16)                0         \n",
      "_________________________________________________________________\n",
      "dropout_1 (Dropout)          (None, 16)                0         \n",
      "_________________________________________________________________\n",
      "dense_2 (Dense)              (None, 1)                 17        \n",
      "=================================================================\n",
      "Total params: 160,033\n",
      "Trainable params: 160,033\n",
      "Non-trainable params: 0\n",
      "_________________________________________________________________\n"
     ]
    }
   ],
   "source": [
    "embedding_dim = 16\n",
    "\n",
    "model = tf.keras.Sequential([\n",
    "    layers.Embedding(max_features + 1, embedding_dim),\n",
    "    layers.Dropout(0.2),\n",
    "    layers.GlobalAveragePooling1D(),\n",
    "    layers.Dropout(0.2),\n",
    "    layers.Dense(1)\n",
    "])\n",
    "\n",
    "model.summary()"
   ]
  },
  {
   "cell_type": "markdown",
   "id": "f11c2cae",
   "metadata": {},
   "source": [
    "* Embedding layer: takes the interger-encoded reviews and looks up an embedding vector for each word-index\n",
    "    * Assigns each word a vector of a specified dimension, with similar words having similar vectors\n",
    "    * Adds a dimension to the output array\n",
    "    * Resulting dimensions are (batch, sequence, embedding)\n",
    "* Global Average Pooling 1D: returns a fixed-length output vector for each example by averaging over the sequence dimensions\n",
    "    * Allows the model to handle input of variable length in the simplest way possible\n",
    "* This fixed length output vector feeds into the dense layer which outputs a single value"
   ]
  },
  {
   "cell_type": "code",
   "execution_count": 53,
   "id": "c24234cb",
   "metadata": {},
   "outputs": [],
   "source": [
    "model.compile(\n",
    "    loss=losses.BinaryCrossentropy(from_logits=True),\n",
    "    optimizer='adam',\n",
    "    metrics=tf.metrics.BinaryAccuracy(threshold=0.0)\n",
    ")"
   ]
  },
  {
   "cell_type": "markdown",
   "id": "0a08d5b6",
   "metadata": {},
   "source": [
    "## Training"
   ]
  },
  {
   "cell_type": "code",
   "execution_count": 56,
   "id": "828e7aba",
   "metadata": {},
   "outputs": [
    {
     "name": "stdout",
     "output_type": "stream",
     "text": [
      "Epoch 1/10\n",
      "625/625 [==============================] - 2s 3ms/step - loss: 0.6645 - binary_accuracy: 0.6946 - val_loss: 0.6167 - val_binary_accuracy: 0.7740\n",
      "Epoch 2/10\n",
      "625/625 [==============================] - 2s 2ms/step - loss: 0.5502 - binary_accuracy: 0.8012 - val_loss: 0.4997 - val_binary_accuracy: 0.8226\n",
      "Epoch 3/10\n",
      "625/625 [==============================] - 2s 2ms/step - loss: 0.4461 - binary_accuracy: 0.8455 - val_loss: 0.4208 - val_binary_accuracy: 0.8472\n",
      "Epoch 4/10\n",
      "625/625 [==============================] - 2s 3ms/step - loss: 0.3786 - binary_accuracy: 0.8665 - val_loss: 0.3738 - val_binary_accuracy: 0.8612\n",
      "Epoch 5/10\n",
      "625/625 [==============================] - 2s 2ms/step - loss: 0.3350 - binary_accuracy: 0.8791 - val_loss: 0.3451 - val_binary_accuracy: 0.8668\n",
      "Epoch 6/10\n",
      "625/625 [==============================] - 2s 2ms/step - loss: 0.3046 - binary_accuracy: 0.8892 - val_loss: 0.3258 - val_binary_accuracy: 0.8712\n",
      "Epoch 7/10\n",
      "625/625 [==============================] - 2s 3ms/step - loss: 0.2814 - binary_accuracy: 0.8982 - val_loss: 0.3127 - val_binary_accuracy: 0.8740\n",
      "Epoch 8/10\n",
      "625/625 [==============================] - 2s 2ms/step - loss: 0.2626 - binary_accuracy: 0.9033 - val_loss: 0.3031 - val_binary_accuracy: 0.8760\n",
      "Epoch 9/10\n",
      "625/625 [==============================] - 2s 3ms/step - loss: 0.2449 - binary_accuracy: 0.9111 - val_loss: 0.2968 - val_binary_accuracy: 0.8772\n",
      "Epoch 10/10\n",
      "625/625 [==============================] - 2s 3ms/step - loss: 0.2313 - binary_accuracy: 0.9164 - val_loss: 0.2917 - val_binary_accuracy: 0.8790\n"
     ]
    }
   ],
   "source": [
    "epochs = 10\n",
    "history = model.fit(\n",
    "    train_ds,\n",
    "    validation_data=val_ds,\n",
    "    epochs=epochs\n",
    ")"
   ]
  },
  {
   "cell_type": "code",
   "execution_count": 63,
   "id": "378be779",
   "metadata": {},
   "outputs": [
    {
     "name": "stdout",
     "output_type": "stream",
     "text": [
      "782/782 [==============================] - 1s 1ms/step - loss: 0.3101 - binary_accuracy: 0.8742\n",
      "Loss: 0.3100917935371399\n",
      "Accuracy: 0.8741999864578247\n"
     ]
    }
   ],
   "source": [
    "loss, accuracy = model.evaluate(test_ds)\n",
    "\n",
    "print('Loss:', loss)\n",
    "print('Accuracy:', accuracy)"
   ]
  },
  {
   "cell_type": "markdown",
   "id": "4eb63f24",
   "metadata": {},
   "source": [
    "## History\n",
    "'model.fit()' returns a 'History' object containing a dictionary detailing the training process"
   ]
  },
  {
   "cell_type": "code",
   "execution_count": 64,
   "id": "8ecf1f6e",
   "metadata": {},
   "outputs": [
    {
     "data": {
      "text/plain": [
       "dict_keys(['loss', 'binary_accuracy', 'val_loss', 'val_binary_accuracy'])"
      ]
     },
     "execution_count": 64,
     "metadata": {},
     "output_type": "execute_result"
    }
   ],
   "source": [
    "history_dict = history.history\n",
    "history_dict.keys()"
   ]
  },
  {
   "cell_type": "code",
   "execution_count": 67,
   "id": "70d7ef98",
   "metadata": {},
   "outputs": [
    {
     "data": {
      "image/png": "[encoded data removed]",
      "text/plain": [
       "<Figure size 432x288 with 1 Axes>"
      ]
     },
     "metadata": {
      "needs_background": "light"
     },
     "output_type": "display_data"
    }
   ],
   "source": [
    "acc = history_dict['binary_accuracy']\n",
    "val_acc = history_dict['val_binary_accuracy']\n",
    "loss = history_dict['loss']\n",
    "val_loss = history_dict['val_loss']\n",
    "\n",
    "epochs = range(1, len(acc) + 1)\n",
    "\n",
    "# \"bo\" is for \"blue dot\"\n",
    "plt.plot(epochs, loss, 'bo', label='Training loss')\n",
    "# b is for \"solid blue line\"\n",
    "plt.plot(epochs, val_loss, 'b', label='Validation loss')\n",
    "plt.xlabel('Epochs')\n",
    "plt.ylabel('Loss')\n",
    "plt.legend()\n",
    "\n",
    "plt.show()"
   ]
  },
  {
   "cell_type": "markdown",
   "id": "e13f0631",
   "metadata": {},
   "source": [
    "## Exporting the model\n",
    "To make the model be able to predict raw string, for simplifying dempoying it\n",
    "\n",
    "Create a new layer with the weights you just trained and the `TextVectorization` layer"
   ]
  },
  {
   "cell_type": "code",
   "execution_count": 68,
   "id": "bc7a4f25",
   "metadata": {},
   "outputs": [
    {
     "name": "stdout",
     "output_type": "stream",
     "text": [
      "782/782 [==============================] - 2s 2ms/step - loss: 0.3101 - accuracy: 0.8742\n",
      "0.8741999864578247\n"
     ]
    }
   ],
   "source": [
    "export_model = tf.keras.Sequential([\n",
    "    vectorize_layer,\n",
    "    model,\n",
    "    layers.Activation('sigmoid')\n",
    "])\n",
    "\n",
    "export_model.compile(\n",
    "    loss=losses.BinaryCrossentropy(from_logits=False),\n",
    "    optimizer='adam',\n",
    "    metrics=['accuracy']\n",
    ")\n",
    "\n",
    "# testing with `raw_test_ds`, the raw strings\n",
    "loss, accuracy = export_model.evaluate(raw_test_ds)\n",
    "print(accuracy)"
   ]
  },
  {
   "cell_type": "markdown",
   "id": "4ad9a76e",
   "metadata": {},
   "source": [
    "### Inference on new data"
   ]
  },
  {
   "cell_type": "code",
   "execution_count": 70,
   "id": "c9903364",
   "metadata": {},
   "outputs": [
    {
     "data": {
      "text/plain": [
       "array([[0.61785847],\n",
       "       [0.4288777 ],\n",
       "       [0.40692103],\n",
       "       [0.32055265]], dtype=float32)"
      ]
     },
     "execution_count": 70,
     "metadata": {},
     "output_type": "execute_result"
    }
   ],
   "source": [
    "examples = [\n",
    "    'This movie was amazing!',\n",
    "    'This movie sucked',\n",
    "    'As much as I wanted to like this movie, that was not the case',\n",
    "    'This movie was not bad'\n",
    "]\n",
    "\n",
    "export_model.predict(examples)"
   ]
  },
  {
   "cell_type": "markdown",
   "id": "9c54951e",
   "metadata": {},
   "source": [
    "# LSTM on the Movie Reviews"
   ]
  },
  {
   "cell_type": "code",
   "execution_count": 79,
   "id": "4cbac45c",
   "metadata": {
    "scrolled": true
   },
   "outputs": [
    {
     "data": {
      "text/plain": [
       "(<tf.Tensor: shape=(32, 250), dtype=int64, numpy=\n",
       " array([[9257,   15,   28, ...,    0,    0,    0],\n",
       "        [8657,    3, 6619, ...,    0,    0,    0],\n",
       "        [  33,  252, 1379, ...,    0,    0,    0],\n",
       "        ...,\n",
       "        [7472, 9944,   83, ...,    0,    0,    0],\n",
       "        [ 346,  524,   71, ...,    0,    0,    0],\n",
       "        [  10,   62,  455, ...,    0,    0,    0]])>,\n",
       " <tf.Tensor: shape=(32,), dtype=int32, numpy=\n",
       " array([0, 1, 1, 1, 1, 1, 1, 0, 1, 1, 0, 0, 0, 0, 0, 0, 0, 1, 0, 1, 1, 0,\n",
       "        0, 1, 1, 1, 0, 0, 1, 1, 0, 0], dtype=int32)>)"
      ]
     },
     "execution_count": 79,
     "metadata": {},
     "output_type": "execute_result"
    }
   ],
   "source": [
    "next(iter(train_ds))"
   ]
  },
  {
   "cell_type": "code",
   "execution_count": 75,
   "id": "616e3060",
   "metadata": {},
   "outputs": [],
   "source": [
    "embedding_dim = 32\n",
    "\n",
    "model = tf.keras.Sequential([\n",
    "    tf.keras.layers.Embedding(max_features + 1, embedding_dim),\n",
    "    tf.keras.layers.LSTM(embedding_dim),\n",
    "    tf.keras.layers.Dense(1, activation='sigmoid')\n",
    "])"
   ]
  },
  {
   "cell_type": "code",
   "execution_count": 76,
   "id": "0f7e02f4",
   "metadata": {},
   "outputs": [
    {
     "name": "stdout",
     "output_type": "stream",
     "text": [
      "Model: \"sequential_11\"\n",
      "_________________________________________________________________\n",
      "Layer (type)                 Output Shape              Param #   \n",
      "=================================================================\n",
      "embedding_12 (Embedding)     (None, None, 32)          320032    \n",
      "_________________________________________________________________\n",
      "lstm_11 (LSTM)               (None, 32)                8320      \n",
      "_________________________________________________________________\n",
      "dense_11 (Dense)             (None, 1)                 33        \n",
      "=================================================================\n",
      "Total params: 328,385\n",
      "Trainable params: 328,385\n",
      "Non-trainable params: 0\n",
      "_________________________________________________________________\n"
     ]
    }
   ],
   "source": [
    "model.summary()"
   ]
  },
  {
   "cell_type": "code",
   "execution_count": 77,
   "id": "8500a27c",
   "metadata": {},
   "outputs": [],
   "source": [
    "model.compile(\n",
    "    loss=losses.BinaryCrossentropy(from_logits=True),\n",
    "    optimizer='adam',\n",
    "    metrics=tf.metrics.BinaryAccuracy(threshold=0.0)\n",
    ")"
   ]
  },
  {
   "cell_type": "code",
   "execution_count": 78,
   "id": "77449a49",
   "metadata": {},
   "outputs": [],
   "source": [
    "model.compile(\n",
    "    loss='binary_crossentropy',\n",
    "    optimizer='adam',\n",
    "    metrics=['acc']\n",
    ")"
   ]
  },
  {
   "cell_type": "code",
   "execution_count": 79,
   "id": "32370be3",
   "metadata": {},
   "outputs": [
    {
     "name": "stdout",
     "output_type": "stream",
     "text": [
      "Epoch 1/10\n",
      "625/625 [==============================] - 7s 10ms/step - loss: 0.6856 - acc: 0.5366 - val_loss: 0.6351 - val_acc: 0.6654\n",
      "Epoch 2/10\n",
      "625/625 [==============================] - 6s 10ms/step - loss: 0.6139 - acc: 0.6770 - val_loss: 0.6182 - val_acc: 0.7196\n",
      "Epoch 3/10\n",
      "625/625 [==============================] - 6s 10ms/step - loss: 0.6074 - acc: 0.6554 - val_loss: 0.5265 - val_acc: 0.7732\n",
      "Epoch 4/10\n",
      "625/625 [==============================] - 6s 10ms/step - loss: 0.5765 - acc: 0.6991 - val_loss: 0.6935 - val_acc: 0.5208\n",
      "Epoch 5/10\n",
      "625/625 [==============================] - 6s 10ms/step - loss: 0.6355 - acc: 0.5794 - val_loss: 0.6887 - val_acc: 0.5316\n",
      "Epoch 6/10\n",
      "625/625 [==============================] - 6s 10ms/step - loss: 0.6042 - acc: 0.6075 - val_loss: 0.6450 - val_acc: 0.7158\n",
      "Epoch 7/10\n",
      "625/625 [==============================] - 6s 10ms/step - loss: 0.5209 - acc: 0.7772 - val_loss: 0.5738 - val_acc: 0.7358\n",
      "Epoch 8/10\n",
      "625/625 [==============================] - 6s 10ms/step - loss: 0.5084 - acc: 0.7505 - val_loss: 0.6079 - val_acc: 0.7242\n",
      "Epoch 9/10\n",
      "625/625 [==============================] - 6s 10ms/step - loss: 0.5155 - acc: 0.7114 - val_loss: 0.5922 - val_acc: 0.7258\n",
      "Epoch 10/10\n",
      "625/625 [==============================] - 6s 10ms/step - loss: 0.4570 - acc: 0.8049 - val_loss: 0.6073 - val_acc: 0.7422\n"
     ]
    }
   ],
   "source": [
    "epochs = 10\n",
    "history = model.fit(\n",
    "    train_ds,\n",
    "    validation_data=val_ds,\n",
    "    epochs=epochs\n",
    ")"
   ]
  },
  {
   "cell_type": "code",
   "execution_count": 80,
   "id": "4df04934",
   "metadata": {},
   "outputs": [
    {
     "name": "stdout",
     "output_type": "stream",
     "text": [
      "782/782 [==============================] - 2s 3ms/step - loss: 0.6371 - acc: 0.7268\n",
      "Loss: 0.6371139883995056\n",
      "Accuracy: 0.7268400192260742\n"
     ]
    }
   ],
   "source": [
    "loss, accuracy = model.evaluate(test_ds)\n",
    "\n",
    "print('Loss:', loss)\n",
    "print('Accuracy:', accuracy)"
   ]
  },
  {
   "cell_type": "code",
   "execution_count": 81,
   "id": "0af9e2d3",
   "metadata": {
    "scrolled": true
   },
   "outputs": [
    {
     "data": {
      "image/png": "[encoded data removed]",
      "text/plain": [
       "<Figure size 432x288 with 1 Axes>"
      ]
     },
     "metadata": {
      "needs_background": "light"
     },
     "output_type": "display_data"
    }
   ],
   "source": [
    "history_dict = history.history\n",
    "history_dict.keys()\n",
    "\n",
    "acc = history_dict['acc']\n",
    "val_acc = history_dict['val_acc']\n",
    "loss = history_dict['loss']\n",
    "val_loss = history_dict['val_loss']\n",
    "\n",
    "epochs = range(1, len(acc) + 1)\n",
    "\n",
    "# \"bo\" is for \"blue dot\"\n",
    "plt.plot(epochs, acc, 'bo', label='Training accuracy')\n",
    "# b is for \"solid blue line\"\n",
    "plt.plot(epochs, val_acc, 'b', label='Validation accuracy')\n",
    "plt.xlabel('Epochs')\n",
    "plt.ylabel('Accuracy')\n",
    "plt.legend()\n",
    "\n",
    "plt.show()"
   ]
  },
  {
   "cell_type": "markdown",
   "id": "774b1d7f",
   "metadata": {},
   "source": [
    "## Bidirectional LSTM"
   ]
  },
  {
   "cell_type": "code",
   "execution_count": 83,
   "id": "101652b3",
   "metadata": {},
   "outputs": [],
   "source": [
    "embedding_dim = 32\n",
    "\n",
    "model = tf.keras.Sequential([\n",
    "    tf.keras.layers.Embedding(max_features, embedding_dim),\n",
    "    tf.keras.layers.Bidirectional(tf.keras.layers.LSTM(embedding_dim)),\n",
    "    tf.keras.layers.Dense(1, activation='sigmoid')\n",
    "])"
   ]
  },
  {
   "cell_type": "code",
   "execution_count": 84,
   "id": "430c6ed2",
   "metadata": {},
   "outputs": [
    {
     "name": "stdout",
     "output_type": "stream",
     "text": [
      "Model: \"sequential_12\"\n",
      "_________________________________________________________________\n",
      "Layer (type)                 Output Shape              Param #   \n",
      "=================================================================\n",
      "embedding_14 (Embedding)     (None, None, 32)          320000    \n",
      "_________________________________________________________________\n",
      "bidirectional (Bidirectional (None, 64)                16640     \n",
      "_________________________________________________________________\n",
      "dense_12 (Dense)             (None, 1)                 65        \n",
      "=================================================================\n",
      "Total params: 336,705\n",
      "Trainable params: 336,705\n",
      "Non-trainable params: 0\n",
      "_________________________________________________________________\n"
     ]
    }
   ],
   "source": [
    "model.summary()"
   ]
  },
  {
   "cell_type": "code",
   "execution_count": 85,
   "id": "cd862880",
   "metadata": {},
   "outputs": [],
   "source": [
    "model.compile(\n",
    "    loss=losses.BinaryCrossentropy(from_logits=True),\n",
    "    optimizer='adam',\n",
    "    metrics=tf.metrics.BinaryAccuracy(threshold=0.0)\n",
    ")"
   ]
  },
  {
   "cell_type": "code",
   "execution_count": 86,
   "id": "f667aa4b",
   "metadata": {},
   "outputs": [],
   "source": [
    "model.compile(\n",
    "    loss='binary_crossentropy',\n",
    "    optimizer='adam',\n",
    "    metrics=['acc']\n",
    ")"
   ]
  },
  {
   "cell_type": "code",
   "execution_count": 87,
   "id": "be1e074e",
   "metadata": {},
   "outputs": [
    {
     "name": "stdout",
     "output_type": "stream",
     "text": [
      "Epoch 1/10\n",
      "625/625 [==============================] - 12s 16ms/step - loss: 0.4846 - acc: 0.7659 - val_loss: 0.3860 - val_acc: 0.8444\n",
      "Epoch 2/10\n",
      "625/625 [==============================] - 9s 15ms/step - loss: 0.3247 - acc: 0.8760 - val_loss: 0.3824 - val_acc: 0.8478\n",
      "Epoch 3/10\n",
      "625/625 [==============================] - 10s 16ms/step - loss: 0.2351 - acc: 0.9136 - val_loss: 0.3479 - val_acc: 0.8650\n",
      "Epoch 4/10\n",
      "625/625 [==============================] - 10s 16ms/step - loss: 0.1885 - acc: 0.9370 - val_loss: 0.4097 - val_acc: 0.8614\n",
      "Epoch 5/10\n",
      "625/625 [==============================] - 10s 16ms/step - loss: 0.1608 - acc: 0.9461 - val_loss: 0.4485 - val_acc: 0.8506\n",
      "Epoch 6/10\n",
      "625/625 [==============================] - 10s 16ms/step - loss: 0.1307 - acc: 0.9553 - val_loss: 0.4516 - val_acc: 0.8498\n",
      "Epoch 7/10\n",
      "625/625 [==============================] - 10s 16ms/step - loss: 0.1596 - acc: 0.9473 - val_loss: 0.4757 - val_acc: 0.8572\n",
      "Epoch 8/10\n",
      "625/625 [==============================] - 10s 16ms/step - loss: 0.0923 - acc: 0.9712 - val_loss: 0.5567 - val_acc: 0.8554\n",
      "Epoch 9/10\n",
      "625/625 [==============================] - 10s 16ms/step - loss: 0.1461 - acc: 0.9478 - val_loss: 0.6640 - val_acc: 0.8324\n",
      "Epoch 10/10\n",
      "625/625 [==============================] - 10s 16ms/step - loss: 0.0958 - acc: 0.9690 - val_loss: 0.5295 - val_acc: 0.8440\n"
     ]
    }
   ],
   "source": [
    "epochs = 10\n",
    "history = model.fit(\n",
    "    train_ds,\n",
    "    validation_data=val_ds,\n",
    "    epochs=epochs\n",
    ")"
   ]
  },
  {
   "cell_type": "code",
   "execution_count": 88,
   "id": "427cb682",
   "metadata": {},
   "outputs": [
    {
     "name": "stdout",
     "output_type": "stream",
     "text": [
      "782/782 [==============================] - 4s 5ms/step - loss: 0.6058 - acc: 0.8227\n",
      "Loss: 0.6058320999145508\n",
      "Accuracy: 0.8227199912071228\n"
     ]
    }
   ],
   "source": [
    "loss, accuracy = model.evaluate(test_ds)\n",
    "\n",
    "print('Loss:', loss)\n",
    "print('Accuracy:', accuracy)"
   ]
  },
  {
   "cell_type": "code",
   "execution_count": 89,
   "id": "3bcd978a",
   "metadata": {
    "scrolled": true
   },
   "outputs": [
    {
     "data": {
      "image/png": "[encoded data removed]",
      "text/plain": [
       "<Figure size 432x288 with 1 Axes>"
      ]
     },
     "metadata": {
      "needs_background": "light"
     },
     "output_type": "display_data"
    }
   ],
   "source": [
    "history_dict = history.history\n",
    "history_dict.keys()\n",
    "\n",
    "acc = history_dict['acc']\n",
    "val_acc = history_dict['val_acc']\n",
    "loss = history_dict['loss']\n",
    "val_loss = history_dict['val_loss']\n",
    "\n",
    "epochs = range(1, len(acc) + 1)\n",
    "\n",
    "# \"bo\" is for \"blue dot\"\n",
    "plt.plot(epochs, acc, 'bo', label='Training accuracy')\n",
    "# b is for \"solid blue line\"\n",
    "plt.plot(epochs, val_acc, 'b', label='Validation accuracy')\n",
    "plt.xlabel('Epochs')\n",
    "plt.ylabel('Accuracy')\n",
    "plt.legend()\n",
    "\n",
    "plt.show()"
   ]
  },
  {
   "cell_type": "code",
   "execution_count": null,
   "id": "5362a7ec",
   "metadata": {},
   "outputs": [],
   "source": []
  }
 ],
 "metadata": {
  "kernelspec": {
   "display_name": "Python 3",
   "language": "python",
   "name": "python3"
  },
  "language_info": {
   "codemirror_mode": {
    "name": "ipython",
    "version": 3
   },
   "file_extension": ".py",
   "mimetype": "text/x-python",
   "name": "python",
   "nbconvert_exporter": "python",
   "pygments_lexer": "ipython3",
   "version": "3.8.8"
  }
 },
 "nbformat": 4,
 "nbformat_minor": 5
}
