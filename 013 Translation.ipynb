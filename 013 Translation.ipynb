{
 "cells": [
  {
   "cell_type": "markdown",
   "id": "76c4650c",
   "metadata": {},
   "source": [
    "Neural Machine Translation, or NMT, can be directly trained on source and target text, no longer requiring the pipeline of specialized systems used in statistical machine learning\n",
    "\n",
    "# Encoder-Decoder Model\n",
    "The early models were Multilayer Perceptrons, limiting the input and output into a fixed-length sequence. Recurrent neural networks have greatly improved upon this.\n",
    "\n",
    "* An encoder neural network reads and encodes a source sentence into a fixed-length \"context\" vector\n",
    "* A decoder, usually an RNN, then outputs a translation from the encoded vector\n",
    "* The encoder and decoder pair for a language pair is jointly trained to maximize the probability of a correct translation given a source sentence\n",
    "\n",
    "## Attention\n",
    "* Has problems with long sequences of text\n",
    "    * Because of the fixed length internal representations\n",
    "* An attention mechanism allows the model to learn where to place attention on the input sequence\n",
    "    * A more efficient approach than to use a fixed size representation to capture all the semantic details\n",
    "    * Read the whole sentence or paragraph, then produce the translated words one at a time, each time focusing on a different part of the input sentence to gather the semantic details to produce the next word\n",
    "    \n",
    "## Problems\n",
    "* Scaling to larger vocabularies of words\n",
    "* Slow speed of training the models\n",
    "* Inference speed\n",
    "\n",
    "## Long Short-Term Memory\n",
    "### Sequence to Sequence\n",
    "* Sequence prediction involves forecasting the next value in a real valued sequence or outputting a class label for an input sequence\n",
    "* The hardest type of sequence prediction problems is using a sequence as an input and requiring a sequence prediction output; seq2seq\n",
    "* The length of the input and output may vary\n",
    "* An effective approach is the Encoder-Decoder LSTM, designed specifically for seq2seq problems\n",
    "### Encoder-Decoder LSTM\n",
    "* The innovation here is the fixed-size internal representation in the heart of the model, where the inputs are read to and the outputs are read from\n",
    "    * Called **sequence embedding** for this\n",
    "* Reversing the input sequence in the training and testing sets introduces many short term dependencies that makes the optimization problems simpler, leading to better performance\n",
    "* Also used on images with a CNN used to extract features from input images, which was read by a decoder LSTM\n",
    "### Applications\n",
    "* Machine Translation\n",
    "* Learning to execute and calculate the outcome of small programs\n",
    "* Image captioning\n",
    "* Conversational modeling (generating answers to textual questions)\n",
    "* Movement classification (generating a sequence of commands from a sequence of gestures)\n",
    "### Implementation\n",
    "* First, the input sequence is shown to the network one encoded character at a time\n",
    "* One or more LSTM layers can be used to implement the encoder model\n",
    "* The output of the model is a fixed-size vector that represents the internal representation of the input sequence"
   ]
  },
  {
   "cell_type": "markdown",
   "id": "8753c2c3",
   "metadata": {},
   "source": [
    "model = Sequential()\n",
    "model.add(LSTM(..., input_shape = (...)))"
   ]
  },
  {
   "cell_type": "markdown",
   "id": "59f510e2",
   "metadata": {},
   "source": [
    "* The decoder now transforms the learned internal representation of  the input sequence into the correct output sequence\n",
    "* One or more LSTM layers can be used to implement the decoder model"
   ]
  },
  {
   "cell_type": "code",
   "execution_count": null,
   "id": "e2a02944",
   "metadata": {},
   "outputs": [],
   "source": []
  }
 ],
 "metadata": {
  "kernelspec": {
   "display_name": "Python 3",
   "language": "python",
   "name": "python3"
  },
  "language_info": {
   "codemirror_mode": {
    "name": "ipython",
    "version": 3
   },
   "file_extension": ".py",
   "mimetype": "text/x-python",
   "name": "python",
   "nbconvert_exporter": "python",
   "pygments_lexer": "ipython3",
   "version": "3.8.8"
  }
 },
 "nbformat": 4,
 "nbformat_minor": 5
}
