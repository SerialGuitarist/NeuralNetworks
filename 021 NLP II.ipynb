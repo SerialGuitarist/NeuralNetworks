{
 "cells": [
  {
   "cell_type": "markdown",
   "id": "f033b422",
   "metadata": {},
   "source": [
    "# Chatbot\n",
    "Requires four kinds of processing, with each containg one or more processing algorithms working in parallel or in series:\n",
    "1. Parse\n",
    "    * Extract features, structured numerical data, from natural language and text\n",
    "2. Analyze\n",
    "    * Generate and combine features by scoring text from sentiment, grammatically and sematics\n",
    "3. Generate\n",
    "    * Compose possible responses using templates, search, or langauge models\n",
    "4. Execute\n",
    "    * Plan statements based on conversation history and objectives, and select the next response\n",
    "    \n",
    "Chatbos, whether neural network based or rule system based on grammar, rely on all the tools of NLP to work well:\n",
    "* Feature extraction (to produce a vector space model)\n",
    "* Information extraction to eb able to answer factual question\n",
    "* Semantic search to learn from previously recorded natural languge text or dialog\n",
    "* Natural language generation to compose new, meaningful statements\n",
    "\n",
    "Machine learning models produce Finite State Machines that are far less picky about misspellings and typos, and a lot easier to program, as we don't ahve anticipate every possible use of symbols in the langauge. Just needs a lot of data, and thre even some machine learning approaches that require little if any labeled data.\n",
    "\n",
    "An ML model can be equipped with any domain knowledge as long as you can find a corpus of writing about it"
   ]
  },
  {
   "cell_type": "code",
   "execution_count": null,
   "id": "836a1cc5",
   "metadata": {},
   "outputs": [],
   "source": []
  }
 ],
 "metadata": {
  "kernelspec": {
   "display_name": "Python 3",
   "language": "python",
   "name": "python3"
  },
  "language_info": {
   "codemirror_mode": {
    "name": "ipython",
    "version": 3
   },
   "file_extension": ".py",
   "mimetype": "text/x-python",
   "name": "python",
   "nbconvert_exporter": "python",
   "pygments_lexer": "ipython3",
   "version": "3.8.8"
  }
 },
 "nbformat": 4,
 "nbformat_minor": 5
}
